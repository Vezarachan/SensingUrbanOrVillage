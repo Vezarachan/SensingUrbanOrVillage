{
 "cells": [
  {
   "cell_type": "code",
   "source": [
    "import folium\n",
    "import os\n",
    "import pandas as pd\n",
    "import numpy as np"
   ],
   "metadata": {
    "collapsed": true,
    "ExecuteTime": {
     "end_time": "2024-04-10T14:32:01.426727Z",
     "start_time": "2024-04-10T14:32:00.113150Z"
    }
   },
   "id": "initial_id",
   "outputs": [],
   "execution_count": 1
  },
  {
   "cell_type": "code",
   "outputs": [],
   "source": [
    "files = os.listdir('D:/Research/datasets/UrbanOrRural/Images')"
   ],
   "metadata": {
    "collapsed": false,
    "ExecuteTime": {
     "end_time": "2024-04-09T08:19:34.642918Z",
     "start_time": "2024-04-09T08:19:34.397700Z"
    }
   },
   "id": "c4a3294099202ec8",
   "execution_count": 5
  },
  {
   "cell_type": "code",
   "outputs": [],
   "source": [
    "images = [f for f in files if f.endswith('.jpg')]"
   ],
   "metadata": {
    "collapsed": false,
    "ExecuteTime": {
     "end_time": "2024-04-09T08:19:35.926418Z",
     "start_time": "2024-04-09T08:19:35.905674Z"
    }
   },
   "id": "31c115b6884a7c18",
   "execution_count": 6
  },
  {
   "cell_type": "code",
   "outputs": [
    {
     "data": {
      "text/plain": "91505"
     },
     "execution_count": 7,
     "metadata": {},
     "output_type": "execute_result"
    }
   ],
   "source": [
    "len(images)"
   ],
   "metadata": {
    "collapsed": false,
    "ExecuteTime": {
     "end_time": "2024-04-09T08:19:36.431193Z",
     "start_time": "2024-04-09T08:19:36.422869Z"
    }
   },
   "id": "cc96f423ccf54274",
   "execution_count": 7
  },
  {
   "cell_type": "code",
   "outputs": [
    {
     "data": {
      "text/plain": "'1000037054407965,11.39443634,48.14419774.jpg'"
     },
     "execution_count": 8,
     "metadata": {},
     "output_type": "execute_result"
    }
   ],
   "source": [
    "images[0]"
   ],
   "metadata": {
    "collapsed": false,
    "ExecuteTime": {
     "end_time": "2024-04-09T08:19:46.954812Z",
     "start_time": "2024-04-09T08:19:46.945462Z"
    }
   },
   "id": "565572734b351513",
   "execution_count": 8
  },
  {
   "cell_type": "code",
   "outputs": [],
   "source": [
    "image_names = list(map(lambda s: s.replace('.jpg', '').split(','), images))"
   ],
   "metadata": {
    "collapsed": false,
    "ExecuteTime": {
     "end_time": "2024-04-09T08:20:10.861327Z",
     "start_time": "2024-04-09T08:20:10.625937Z"
    }
   },
   "id": "b23611361cdee62e",
   "execution_count": 9
  },
  {
   "cell_type": "code",
   "outputs": [
    {
     "data": {
      "text/plain": "['1000037054407965', '11.39443634', '48.14419774']"
     },
     "execution_count": 10,
     "metadata": {},
     "output_type": "execute_result"
    }
   ],
   "source": [
    "image_names[0]"
   ],
   "metadata": {
    "collapsed": false,
    "ExecuteTime": {
     "end_time": "2024-04-09T08:20:11.873996Z",
     "start_time": "2024-04-09T08:20:11.856373Z"
    }
   },
   "id": "6670a40acf898e",
   "execution_count": 10
  },
  {
   "cell_type": "code",
   "outputs": [],
   "source": [
    "image_locations = pd.DataFrame(image_names)"
   ],
   "metadata": {
    "collapsed": false,
    "ExecuteTime": {
     "end_time": "2024-04-09T08:23:51.331528Z",
     "start_time": "2024-04-09T08:23:51.282968Z"
    }
   },
   "id": "29ea4aa8120b575b",
   "execution_count": 14
  },
  {
   "cell_type": "code",
   "outputs": [
    {
     "data": {
      "text/plain": "                 id            x            y\n0  1000037054407965  11.39443634  48.14419774\n1  1000056633734108  11.44217078  48.20371525\n2  1000084560677852    11.744363     48.14301\n3  1000169507932515    11.403894    48.126778\n4  1000179054561431    11.449047    48.104329\n5  1000216893849237    11.510212     48.04729\n6  1000239990785146  11.51019214  48.22773526\n7  1000252437176754      11.5012    48.118255\n8  1000288527175954    11.523564    48.078706\n9  1000317407213992  11.60919769  48.09251415",
      "text/html": "<div>\n<style scoped>\n    .dataframe tbody tr th:only-of-type {\n        vertical-align: middle;\n    }\n\n    .dataframe tbody tr th {\n        vertical-align: top;\n    }\n\n    .dataframe thead th {\n        text-align: right;\n    }\n</style>\n<table border=\"1\" class=\"dataframe\">\n  <thead>\n    <tr style=\"text-align: right;\">\n      <th></th>\n      <th>id</th>\n      <th>x</th>\n      <th>y</th>\n    </tr>\n  </thead>\n  <tbody>\n    <tr>\n      <th>0</th>\n      <td>1000037054407965</td>\n      <td>11.39443634</td>\n      <td>48.14419774</td>\n    </tr>\n    <tr>\n      <th>1</th>\n      <td>1000056633734108</td>\n      <td>11.44217078</td>\n      <td>48.20371525</td>\n    </tr>\n    <tr>\n      <th>2</th>\n      <td>1000084560677852</td>\n      <td>11.744363</td>\n      <td>48.14301</td>\n    </tr>\n    <tr>\n      <th>3</th>\n      <td>1000169507932515</td>\n      <td>11.403894</td>\n      <td>48.126778</td>\n    </tr>\n    <tr>\n      <th>4</th>\n      <td>1000179054561431</td>\n      <td>11.449047</td>\n      <td>48.104329</td>\n    </tr>\n    <tr>\n      <th>5</th>\n      <td>1000216893849237</td>\n      <td>11.510212</td>\n      <td>48.04729</td>\n    </tr>\n    <tr>\n      <th>6</th>\n      <td>1000239990785146</td>\n      <td>11.51019214</td>\n      <td>48.22773526</td>\n    </tr>\n    <tr>\n      <th>7</th>\n      <td>1000252437176754</td>\n      <td>11.5012</td>\n      <td>48.118255</td>\n    </tr>\n    <tr>\n      <th>8</th>\n      <td>1000288527175954</td>\n      <td>11.523564</td>\n      <td>48.078706</td>\n    </tr>\n    <tr>\n      <th>9</th>\n      <td>1000317407213992</td>\n      <td>11.60919769</td>\n      <td>48.09251415</td>\n    </tr>\n  </tbody>\n</table>\n</div>"
     },
     "execution_count": 18,
     "metadata": {},
     "output_type": "execute_result"
    }
   ],
   "source": [
    "image_locations.head(10)"
   ],
   "metadata": {
    "collapsed": false,
    "ExecuteTime": {
     "end_time": "2024-04-09T08:26:59.541266Z",
     "start_time": "2024-04-09T08:26:59.529809Z"
    }
   },
   "id": "9dec19f8a2c1264b",
   "execution_count": 18
  },
  {
   "cell_type": "code",
   "outputs": [],
   "source": [
    "image_locations.astype({0: str, 1: np.float64, 2: np.float64})\n",
    "image_locations.columns = ['id', 'x', 'y']"
   ],
   "metadata": {
    "collapsed": false,
    "ExecuteTime": {
     "end_time": "2024-04-09T08:26:56.038022Z",
     "start_time": "2024-04-09T08:26:55.958767Z"
    }
   },
   "id": "22e67e5c22072f6b",
   "execution_count": 17
  },
  {
   "cell_type": "code",
   "outputs": [],
   "source": [
    "image_locations.to_csv('./Datasets/Images/actual_sampled_images.csv')"
   ],
   "metadata": {
    "collapsed": false,
    "ExecuteTime": {
     "end_time": "2024-04-09T08:28:26.839476Z",
     "start_time": "2024-04-09T08:28:26.502123Z"
    }
   },
   "id": "6906addd03b8cd7a",
   "execution_count": 19
  },
  {
   "metadata": {
    "ExecuteTime": {
     "end_time": "2024-04-10T14:32:22.993365Z",
     "start_time": "2024-04-10T14:32:22.985445Z"
    }
   },
   "cell_type": "code",
   "source": "files = os.listdir('D:/Research/datasets/UrbanOrRural/ReImagesNew')",
   "id": "dfc606fa66b94c94",
   "outputs": [],
   "execution_count": 3
  },
  {
   "metadata": {
    "ExecuteTime": {
     "end_time": "2024-04-10T14:32:27.200032Z",
     "start_time": "2024-04-10T14:32:27.185190Z"
    }
   },
   "cell_type": "code",
   "source": "files",
   "id": "6ae481c0725be288",
   "outputs": [
    {
     "data": {
      "text/plain": [
       "['1045256106420396,11.385741,48.144595-3 - Copy.jpg',\n",
       " '1048263446376122,11.39942,48.133788-3 - Copy.jpg',\n",
       " '1051693265816035,11.53472447,48.14026623-3 - Copy.jpg',\n",
       " '1058646538294181,11.480182,48.233424-1 - Copy.jpg',\n",
       " '1060941691155933,11.381788,48.143228-2 - Copy.jpg',\n",
       " '1065051577358029,11.45425903,48.15297391-2 - Copy.jpg',\n",
       " '1066730171128764,11.451938,48.125188-3 - Copy.jpg',\n",
       " '1069151420304054,11.38148802,48.14314976-2 - Copy.jpg',\n",
       " '1072492543790204,11.43265068,48.18108244-2 - Copy.jpg',\n",
       " '1077356023110834,11.44246595,48.1616553-2 - Copy.jpg',\n",
       " '1082238542679711,11.48441901,48.12362329-1 - Copy.jpg',\n",
       " '1101284984041855,11.420031,48.143926-2 - Copy.jpg',\n",
       " '1110672576109946,11.394179,48.147785-1 - Copy.jpg',\n",
       " '1110672576109946,11.394179,48.147785-3 - Copy.jpg',\n",
       " '1129176671226685,11.444085,48.158425-2 - Copy.jpg',\n",
       " '1138719386626927,11.51932514,48.12216098-2 - Copy.jpg',\n",
       " '1145515122617030,11.408213,48.160811-2 - Copy.jpg',\n",
       " '1159229715055444,11.427621,48.184394-3 - Copy.jpg',\n",
       " '1194889268566237,11.39705678,48.13857328-3 - Copy.jpg',\n",
       " '1198140700633775,11.47919059,48.23437036-1 - Copy.jpg',\n",
       " '1202204290211861,11.3638261,48.17349238-1 - Copy.jpg',\n",
       " '1210677676055472,11.516617,48.124174-3 - Copy.jpg',\n",
       " '1237837086671455,11.478664,48.234853-2 - Copy.jpg',\n",
       " '1257766948246844,11.447845,48.170876-1 - Copy.jpg',\n",
       " '1290465621348968,11.41764323,48.14433525-1 - Copy.jpg',\n",
       " '132154665510659,11.474892,48.123766.jpg',\n",
       " '1347956152241415,11.41496945,48.14452262-3 - Copy.jpg',\n",
       " '1360076497955680,11.4279524,48.18418068-2 - Copy.jpg',\n",
       " '136283855150223,11.478712,48.224666.jpg',\n",
       " '1383759288672280,11.40296494,48.12937751-2 - Copy.jpg',\n",
       " '1384043511957230,11.431285,48.179512-1 - Copy.jpg',\n",
       " '1391421465127451,11.433924,48.180248-2 - Copy.jpg',\n",
       " '139728298132479,11.48113148,48.23202866.jpg',\n",
       " '1400034310383613,11.45315148,48.16509425-2 - Copy.jpg',\n",
       " '1418884918841517,11.41703731,48.19156113-1 - Copy.jpg',\n",
       " '142255851196204,11.477677,48.223951.jpg',\n",
       " '1441134722917030,11.45414699,48.14813842-2 - Copy.jpg',\n",
       " '1633193190413796,11.384711,48.144166-2 - Copy.jpg',\n",
       " '1649357895258834,11.51977772,48.12377645-2 - Copy.jpg',\n",
       " '168441945285379,11.53278,48.140032.jpg',\n",
       " '1696313700713284,11.38062422,48.14298554-2 - Copy.jpg',\n",
       " '1700926866776183,11.60626857,48.13845762-3 - Copy.jpg',\n",
       " '170093404996361,11.480439,48.233117.jpg',\n",
       " '1720417941498515,11.43253836,48.16303938-2 - Copy.jpg',\n",
       " '1739758729876396,11.47633596,48.12353058-1 - Copy.jpg',\n",
       " '174127107916555,11.47523282,48.22316297.jpg',\n",
       " '175302587791194,11.3699506,48.1418989.jpg',\n",
       " '1770934176601605,11.403004,48.125621-1 - Copy.jpg',\n",
       " '177229087625233,11.65860682,48.12354436.jpg',\n",
       " '1793944560784179,11.51879137,48.12133556-1 - Copy.jpg',\n",
       " '1810785342426496,11.48145707,48.22996232-3 - Copy.jpg',\n",
       " '1854122858089517,11.45258369,48.15574402-1 - Copy.jpg',\n",
       " '196498872296027,11.51300899,48.1420272.jpg',\n",
       " '2005926199783750,11.43787208,48.17762796-2 - Copy.jpg',\n",
       " '2023624998003783,11.535033,48.146174-1 - Copy.jpg',\n",
       " '203255001395156,11.36627261,48.17601144.jpg',\n",
       " '2046331022384952,11.45623,48.164075-2 - Copy.jpg',\n",
       " '206073294401189,11.479205,48.225116.jpg',\n",
       " '206360754405581,11.53471204,48.14086555.jpg',\n",
       " '210649010563206,11.422745,48.146893.jpg',\n",
       " '212143490713494,11.476722,48.223454.jpg',\n",
       " '213275337270936,11.40729449,48.17140562.jpg',\n",
       " '215982526593390,11.49010002,48.12394269.jpg',\n",
       " '220694760834727,11.401529,48.130949.jpg',\n",
       " '2220599211421951,11.383928,48.143862-3 - Copy.jpg',\n",
       " '222078542809119,11.382292,48.131343.jpg',\n",
       " '226636732593244,11.519455,48.122259.jpg',\n",
       " '227063689558843,11.40986,48.172379.jpg',\n",
       " '2275629012647936,11.400011,48.133222-2 - Copy.jpg',\n",
       " '2317356811794846,11.448172,48.170661-3 - Copy.jpg',\n",
       " '245491048264085,11.534287,48.243075.jpg',\n",
       " '2523770201144695,11.42476074,48.18628772-1 - Copy.jpg',\n",
       " '254541386454340,11.43439073,48.14933998.jpg',\n",
       " '258420047226883,11.4048268,48.12812842.jpg',\n",
       " '263195848883658,11.531214,48.139527.jpg',\n",
       " '263451109093576,11.444085,48.158425.jpg',\n",
       " '263982506022315,11.407183,48.127691-1 - Copy.jpg',\n",
       " '270599418705129,11.40316416,48.12823458-1 - Copy.jpg',\n",
       " '273912887981471,11.45560456,48.15300641-3 - Copy.jpg',\n",
       " '2745256178953505,11.42081797,48.14415927-3 - Copy.jpg',\n",
       " '2764679010451683,11.53289783,48.14018303-2 - Copy.jpg',\n",
       " '276596450802675,11.41277171,48.14128777-2 - Copy.jpg',\n",
       " '2775505219446876,11.534674,48.144445-1.jpg',\n",
       " '278506977345433,11.481255,48.229075-3 - Copy.jpg',\n",
       " '278894407273589,11.422654,48.161251-2 - Copy.jpg',\n",
       " '2794024054229352,11.419065,48.145043-3.jpg',\n",
       " '2795214480753538,11.537168,48.139831-1.jpg',\n",
       " '2836869729901456,11.401539,48.123322-3.jpg',\n",
       " '2875642489315028,11.478117,48.224226-3.jpg',\n",
       " '288634843427209,11.38434545,48.14401272-1 - Copy.jpg',\n",
       " '290894035937670,11.52089467,48.12444924-2 - Copy.jpg',\n",
       " '290894035937670,11.520914,48.124436-2 - Copy.jpg',\n",
       " '2930943143819058,11.41390649,48.14374091-2.jpg',\n",
       " '293267670121911,11.38699778,48.13197152-3 - Copy.jpg',\n",
       " '293346458944665,11.41552188,48.14336049-2 - Copy.jpg',\n",
       " '2943069462639767,11.480826,48.227682-3.jpg',\n",
       " '2963306370597356,11.54969197,48.13829259-2.jpg',\n",
       " '297096341962458,11.477446,48.223815-1 - Copy.jpg',\n",
       " '297514095697224,11.380956,48.143053-3 - Copy.jpg',\n",
       " '2997557080377701,11.420143,48.189397-2.jpg',\n",
       " '300053401578355,11.41471337,48.14412403-3 - Copy.jpg',\n",
       " '3008663302685084,11.51988221,48.12297951-1.jpg',\n",
       " '301831568139096,11.430459,48.18204-1 - Copy.jpg',\n",
       " '308582697523290,11.558572,48.135592-2 - Copy.jpg',\n",
       " '308598667494316,11.445302,48.157147-1 - Copy.jpg',\n",
       " '308863863945687,11.40678273,48.12767564-1 - Copy.jpg',\n",
       " '309185650617806,11.558594,48.136824-3 - Copy.jpg',\n",
       " '310835777058145,11.42070855,48.14530895-1 - Copy.jpg',\n",
       " '311154520725803,11.531219,48.139813-3 - Copy.jpg',\n",
       " '311195240616691,11.5216,48.124654-3 - Copy.jpg',\n",
       " '320968099562515,11.70787246,48.18510456-3 - Copy.jpg',\n",
       " '322305372585361,11.41545484,48.14365657-3 - Copy.jpg',\n",
       " '322396379606174,11.41522544,48.17128015-2 - Copy.jpg',\n",
       " '326078476084192,11.387302,48.145218-2 - Copy.jpg',\n",
       " '328827965331457,11.47673069,48.12388051-3 - Copy.jpg',\n",
       " '3326057820830604,11.369256,48.142795-2.jpg',\n",
       " '334498284689657,11.41662078,48.15666721-2 - Copy.jpg',\n",
       " '337039695669324,11.424891,48.18625-2 - Copy.jpg',\n",
       " '341768048720919,11.41639907,48.19198255-3 - Copy.jpg',\n",
       " '344138061642613,11.40179756,48.13018037-3 - Copy.jpg',\n",
       " '345355850342271,11.5592261,48.1344326-3 - Copy.jpg',\n",
       " '346889720801843,11.38233456,48.14334969-2 - Copy.jpg',\n",
       " '348343720107990,11.549785,48.138578-1 - Copy.jpg',\n",
       " '3618234678422365,11.40360965,48.12850178-1.jpg',\n",
       " '361826096307669,11.39539695,48.14187578-2 - Copy.jpg',\n",
       " '364383879330823,11.407435,48.128357-3 - Copy.jpg',\n",
       " '365855691511060,11.417751,48.157058-3 - Copy.jpg',\n",
       " '366213011453384,11.446155,48.145999-3 - Copy.jpg',\n",
       " '3761278570763917,11.44010443,48.16285407-2.jpg',\n",
       " '377676616857838,11.390757,48.146102-1 - Copy.jpg',\n",
       " '378243440282537,11.44731363,48.15595073-2 - Copy.jpg',\n",
       " '379806291152156,11.53254397,48.25229095-3 - Copy.jpg',\n",
       " '381915053682347,11.42385456,48.15673994-2 - Copy.jpg',\n",
       " '384107157522348,11.492724,48.124339-2 - Copy.jpg',\n",
       " '385526802781706,11.41555552,48.16144294-2 - Copy.jpg',\n",
       " '387933846901214,11.42731249,48.18460104-2 - Copy.jpg',\n",
       " '3929169527137899,11.550456,48.137554-1.jpg',\n",
       " '3988937744553915,11.398503,48.135524-2.jpg',\n",
       " '4030289873727253,11.519803,48.122771-3.jpg',\n",
       " '411206920613847,11.444085,48.158425-1 - Copy.jpg',\n",
       " '414643190138909,11.41511684,48.17157081-1 - Copy.jpg',\n",
       " '417074723305275,11.409012,48.172264-3 - Copy.jpg',\n",
       " '425494595876088,11.406577,48.161065-1 - Copy.jpg',\n",
       " '427549575712640,11.44501298,48.15735574-2 - Copy.jpg',\n",
       " '428395292268325,11.452528,48.153175-1 - Copy.jpg',\n",
       " '432727555030205,11.414977,48.171842-1 - Copy.jpg',\n",
       " '4356163154396639,11.41640977,48.14421219-1.jpg',\n",
       " '4360643920615075,11.40898,48.169695-2.jpg',\n",
       " '4486181128163658,11.452528,48.153175-1.jpg',\n",
       " '4515330531868916,11.42303139,48.16167687-1.jpg',\n",
       " '464456858188296,11.555858,48.136534-1 - Copy.jpg',\n",
       " '465550514656248,11.44733,48.146113-2 - Copy.jpg',\n",
       " '469006724761430,11.41511684,48.17157081-2 - Copy.jpg',\n",
       " '469636214147476,11.520115,48.123311-1 - Copy.jpg',\n",
       " '471379470732491,11.533692,48.139963-2 - Copy.jpg',\n",
       " '473157840423373,11.558577,48.138746-2 - Copy.jpg',\n",
       " '475573943711508,11.55593457,48.13839427-2 - Copy.jpg',\n",
       " '482078646402465,11.520656,48.124182-3 - Copy.jpg',\n",
       " '482488533170095,11.423029,48.14583-3 - Copy.jpg',\n",
       " '486108405963867,11.423067,48.146317-2 - Copy.jpg',\n",
       " '488792655665585,11.447657,48.155776-3 - Copy.jpg',\n",
       " '489418752393218,11.425234,48.157537-3 - Copy.jpg',\n",
       " '491874969805347,11.5425,48.22746-2 - Copy.jpg',\n",
       " '4978538578895421,11.38989113,48.14595521-1.jpg',\n",
       " '500684931276061,11.430507,48.180903-2 - Copy.jpg',\n",
       " '500731827641116,11.41381873,48.14403483-3 - Copy.jpg',\n",
       " '505351207922269,11.385484,48.144488-2 - Copy.jpg',\n",
       " '505593770797966,11.43441814,48.17421027-3 - Copy.jpg',\n",
       " '510614393298868,11.45611191,48.15125243-2 - Copy.jpg',\n",
       " '511765403306937,11.550912,48.137547-1 - Copy.jpg',\n",
       " '515772229423170,11.42249627,48.14849612-2 - Copy.jpg',\n",
       " '5348274205189365,11.41522544,48.17128015-2.jpg',\n",
       " '5416031525188312,11.434895,48.179776-2.jpg',\n",
       " '5420062351398191,11.454937,48.149134-3.jpg',\n",
       " '555500562497324,11.45719847,48.12442328-2 - Copy.jpg',\n",
       " '567426040904028,11.533783,48.140153-1 - Copy.jpg',\n",
       " '584668993050562,11.403481,48.127318-2 - Copy.jpg',\n",
       " '591310501838999,11.414532,48.144599-2 - Copy.jpg',\n",
       " '604521314301118,11.41511684,48.17157081-2 - Copy.jpg',\n",
       " '609609630018401,11.53534938,48.14004631-2 - Copy.jpg',\n",
       " '614882910048062,11.44888796,48.15508819-3 - Copy.jpg',\n",
       " '622431702400316,11.55878502,48.1344892-2 - Copy.jpg',\n",
       " '633667957769983,11.42428064,48.15683474-2 - Copy.jpg',\n",
       " '635353925238886,11.467661,48.123909-1 - Copy.jpg',\n",
       " '640590594665612,11.419966,48.189455-2 - Copy.jpg',\n",
       " '647639042959317,11.419145,48.143905-2 - Copy.jpg',\n",
       " '668442524304918,11.41972147,48.14390279-1 - Copy.jpg',\n",
       " '677948679913087,11.422493,48.147684-3 - Copy.jpg',\n",
       " '687687702646039,11.38862207,48.14565668-2 - Copy.jpg',\n",
       " '687775945960652,11.443918,48.158686-2 - Copy.jpg',\n",
       " '704494808191355,11.38292792,48.12835458-3 - Copy.jpg',\n",
       " '720775645530682,11.44197386,48.16121805-3 - Copy.jpg',\n",
       " '7229256950441259,11.53993639,48.23493239-1.jpg',\n",
       " '7270131506345525,11.44277,48.159187-2.jpg',\n",
       " '728019872503894,11.445774,48.172307-1 - Copy.jpg',\n",
       " '730181918361017,11.38356103,48.14372089-2 - Copy.jpg',\n",
       " '752039959496246,11.388944,48.145752-3 - Copy.jpg',\n",
       " '761268894559248,11.4382495,48.14513335-1 - Copy.jpg',\n",
       " '763831530961621,11.516231,48.124235-1 - Copy.jpg',\n",
       " '764544961522588,11.448516,48.155283-3 - Copy.jpg',\n",
       " '768910150494332,11.562917,48.136326-2 - Copy.jpg',\n",
       " '769616233727727,11.452271,48.155916-3 - Copy.jpg',\n",
       " '772460887590884,11.398203,48.136079-3 - Copy.jpg',\n",
       " '7762910777070935,11.4336234,48.18061669-2.jpg',\n",
       " '7762910777070935,11.433704,48.180606-1.jpg',\n",
       " '781347056105120,11.533011,48.252827-3 - Copy.jpg',\n",
       " '781459969150222,11.475826,48.123763-3 - Copy.jpg',\n",
       " '784802572403441,11.55856917,48.13470046-1 - Copy.jpg',\n",
       " '785664058758152,11.42646034,48.16035861-3 - Copy.jpg',\n",
       " '793493261606200,11.558583,48.136523-2 - Copy.jpg',\n",
       " '804975346813954,11.52039265,48.12381192-1 - Copy.jpg',\n",
       " '804975346813954,11.520436,48.123845-2 - Copy.jpg',\n",
       " '808030606791517,11.521922,48.124604-1 - Copy.jpg',\n",
       " '808438774380344,11.45444541,48.16711295-2 - Copy.jpg',\n",
       " '813650376235366,11.414795,48.143543-2 - Copy.jpg',\n",
       " '814002156159440,11.4478274,48.14616607-2 - Copy.jpg',\n",
       " '819650385322915,11.445587,48.16075-2 - Copy.jpg',\n",
       " '826831444707321,11.40273532,48.12963509-3 - Copy.jpg',\n",
       " '859323291320098,11.555868,48.137132-1 - Copy.jpg',\n",
       " '861412491080974,11.369739,48.142083-2 - Copy.jpg',\n",
       " '866468497401929,11.409012,48.172264-2 - Copy.jpg',\n",
       " '875228113323396,11.446944,48.146074-3 - Copy.jpg',\n",
       " '880422377064280,11.45565055,48.1661204-2 - Copy.jpg',\n",
       " '889101001641404,11.45050873,48.16474237-2 - Copy.jpg',\n",
       " '905398280315633,11.55853642,48.13388409-2 - Copy.jpg',\n",
       " '916588776539002,11.47633596,48.12353058-3 - Copy.jpg',\n",
       " '924833745764709,11.541765,48.227982-3 - Copy.jpg',\n",
       " '931128784374820,11.47791887,48.23560329-2 - Copy.jpg',\n",
       " '935255733931406,11.382292,48.131343-3 - Copy.jpg',\n",
       " '946471546219492,11.41522544,48.17128015-1 - Copy.jpg',\n",
       " '949086649186717,11.481341,48.23148-3 - Copy.jpg',\n",
       " '950149895788005,11.36342604,48.17335621-3 - Copy.jpg',\n",
       " '955065628752162,11.452528,48.153175-2 - Copy.jpg',\n",
       " '963610074408319,11.44330013,48.16049565-3 - Copy.jpg']"
      ]
     },
     "execution_count": 4,
     "metadata": {},
     "output_type": "execute_result"
    }
   ],
   "execution_count": 4
  },
  {
   "metadata": {
    "ExecuteTime": {
     "end_time": "2024-04-10T14:33:21.250128Z",
     "start_time": "2024-04-10T14:33:21.241847Z"
    }
   },
   "cell_type": "code",
   "source": "files[0].find('-')",
   "id": "37b73f3161e3871d",
   "outputs": [
    {
     "data": {
      "text/plain": [
       "36"
      ]
     },
     "execution_count": 5,
     "metadata": {},
     "output_type": "execute_result"
    }
   ],
   "execution_count": 5
  },
  {
   "metadata": {
    "ExecuteTime": {
     "end_time": "2024-04-10T14:34:06.219385Z",
     "start_time": "2024-04-10T14:34:06.210516Z"
    }
   },
   "cell_type": "code",
   "source": "files[0].find('.jpg')",
   "id": "2b9900c8a680469e",
   "outputs": [
    {
     "data": {
      "text/plain": [
       "45"
      ]
     },
     "execution_count": 7,
     "metadata": {},
     "output_type": "execute_result"
    }
   ],
   "execution_count": 7
  },
  {
   "metadata": {
    "ExecuteTime": {
     "end_time": "2024-04-10T14:34:26.429925Z",
     "start_time": "2024-04-10T14:34:26.423261Z"
    }
   },
   "cell_type": "code",
   "source": "name = files[0]",
   "id": "daf26c1c5d2268fd",
   "outputs": [],
   "execution_count": 8
  },
  {
   "metadata": {
    "ExecuteTime": {
     "end_time": "2024-04-10T14:36:31.904528Z",
     "start_time": "2024-04-10T14:36:31.898981Z"
    }
   },
   "cell_type": "code",
   "source": "new_name = name[:36] + name[45:]",
   "id": "caa386af1a0ac604",
   "outputs": [],
   "execution_count": 9
  },
  {
   "metadata": {
    "ExecuteTime": {
     "end_time": "2024-04-10T14:36:38.073895Z",
     "start_time": "2024-04-10T14:36:38.064594Z"
    }
   },
   "cell_type": "code",
   "source": "new_name",
   "id": "545beb33a5e96695",
   "outputs": [
    {
     "data": {
      "text/plain": [
       "'1045256106420396,11.385741,48.144595.jpg'"
      ]
     },
     "execution_count": 10,
     "metadata": {},
     "output_type": "execute_result"
    }
   ],
   "execution_count": 10
  },
  {
   "metadata": {
    "ExecuteTime": {
     "end_time": "2024-04-10T14:42:36.175382Z",
     "start_time": "2024-04-10T14:42:35.672798Z"
    }
   },
   "cell_type": "code",
   "source": [
    "for root, dirs, files in os.walk('D:/Research/datasets/UrbanOrRural/ReImagesNew'):\n",
    "    for name in files:\n",
    "        print(f'{root}/{name}')\n",
    "        i1 = name.find('-')\n",
    "        i2 = name.find('.jpg')\n",
    "        new_name = name[:i1] + name[i2:]\n",
    "        if os.path.exists(f'{root}/{new_name}'): continue\n",
    "        os.rename(f'{root}/{name}', f'{root}/{new_name}')\n",
    "        print(f'{root}/{new_name}')"
   ],
   "id": "f67b05c4ca45afec",
   "outputs": [
    {
     "name": "stdout",
     "output_type": "stream",
     "text": [
      "D:/Research/datasets/UrbanOrRural/ReImagesNew/1045256106420396,11.385741,48.144595.jpg\n",
      "D:/Research/datasets/UrbanOrRural/ReImagesNew/1045256106420396,11.385741,48.144595.jp.jpg\n",
      "D:/Research/datasets/UrbanOrRural/ReImagesNew/1048263446376122,11.39942,48.133788.jpg\n",
      "D:/Research/datasets/UrbanOrRural/ReImagesNew/1048263446376122,11.39942,48.133788.jp.jpg\n",
      "D:/Research/datasets/UrbanOrRural/ReImagesNew/1051693265816035,11.53472447,48.14026623.jpg\n",
      "D:/Research/datasets/UrbanOrRural/ReImagesNew/1051693265816035,11.53472447,48.14026623.jp.jpg\n",
      "D:/Research/datasets/UrbanOrRural/ReImagesNew/1058646538294181,11.480182,48.233424.jpg\n",
      "D:/Research/datasets/UrbanOrRural/ReImagesNew/1058646538294181,11.480182,48.233424.jp.jpg\n",
      "D:/Research/datasets/UrbanOrRural/ReImagesNew/1060941691155933,11.381788,48.143228.jpg\n",
      "D:/Research/datasets/UrbanOrRural/ReImagesNew/1060941691155933,11.381788,48.143228.jp.jpg\n",
      "D:/Research/datasets/UrbanOrRural/ReImagesNew/1065051577358029,11.45425903,48.15297391.jpg\n",
      "D:/Research/datasets/UrbanOrRural/ReImagesNew/1065051577358029,11.45425903,48.15297391.jp.jpg\n",
      "D:/Research/datasets/UrbanOrRural/ReImagesNew/1066730171128764,11.451938,48.125188.jpg\n",
      "D:/Research/datasets/UrbanOrRural/ReImagesNew/1066730171128764,11.451938,48.125188.jp.jpg\n",
      "D:/Research/datasets/UrbanOrRural/ReImagesNew/1069151420304054,11.38148802,48.14314976.jpg\n",
      "D:/Research/datasets/UrbanOrRural/ReImagesNew/1069151420304054,11.38148802,48.14314976.jp.jpg\n",
      "D:/Research/datasets/UrbanOrRural/ReImagesNew/1072492543790204,11.43265068,48.18108244.jpg\n",
      "D:/Research/datasets/UrbanOrRural/ReImagesNew/1072492543790204,11.43265068,48.18108244.jp.jpg\n",
      "D:/Research/datasets/UrbanOrRural/ReImagesNew/1077356023110834,11.44246595,48.1616553.jpg\n",
      "D:/Research/datasets/UrbanOrRural/ReImagesNew/1077356023110834,11.44246595,48.1616553.jp.jpg\n",
      "D:/Research/datasets/UrbanOrRural/ReImagesNew/1082238542679711,11.48441901,48.12362329.jpg\n",
      "D:/Research/datasets/UrbanOrRural/ReImagesNew/1082238542679711,11.48441901,48.12362329.jp.jpg\n",
      "D:/Research/datasets/UrbanOrRural/ReImagesNew/1101284984041855,11.420031,48.143926.jpg\n",
      "D:/Research/datasets/UrbanOrRural/ReImagesNew/1101284984041855,11.420031,48.143926.jp.jpg\n",
      "D:/Research/datasets/UrbanOrRural/ReImagesNew/1110672576109946,11.394179,48.147785-3 - Copy.jpg\n",
      "D:/Research/datasets/UrbanOrRural/ReImagesNew/1110672576109946,11.394179,48.147785.jpg\n",
      "D:/Research/datasets/UrbanOrRural/ReImagesNew/1110672576109946,11.394179,48.147785.jp.jpg\n",
      "D:/Research/datasets/UrbanOrRural/ReImagesNew/1129176671226685,11.444085,48.158425-2 - Copy.jpg\n",
      "D:/Research/datasets/UrbanOrRural/ReImagesNew/1129176671226685,11.444085,48.158425.jpg\n",
      "D:/Research/datasets/UrbanOrRural/ReImagesNew/1138719386626927,11.51932514,48.12216098-2 - Copy.jpg\n",
      "D:/Research/datasets/UrbanOrRural/ReImagesNew/1138719386626927,11.51932514,48.12216098.jpg\n",
      "D:/Research/datasets/UrbanOrRural/ReImagesNew/1145515122617030,11.408213,48.160811-2 - Copy.jpg\n",
      "D:/Research/datasets/UrbanOrRural/ReImagesNew/1145515122617030,11.408213,48.160811.jpg\n",
      "D:/Research/datasets/UrbanOrRural/ReImagesNew/1159229715055444,11.427621,48.184394-3 - Copy.jpg\n",
      "D:/Research/datasets/UrbanOrRural/ReImagesNew/1159229715055444,11.427621,48.184394.jpg\n",
      "D:/Research/datasets/UrbanOrRural/ReImagesNew/1194889268566237,11.39705678,48.13857328-3 - Copy.jpg\n",
      "D:/Research/datasets/UrbanOrRural/ReImagesNew/1194889268566237,11.39705678,48.13857328.jpg\n",
      "D:/Research/datasets/UrbanOrRural/ReImagesNew/1198140700633775,11.47919059,48.23437036-1 - Copy.jpg\n",
      "D:/Research/datasets/UrbanOrRural/ReImagesNew/1198140700633775,11.47919059,48.23437036.jpg\n",
      "D:/Research/datasets/UrbanOrRural/ReImagesNew/1202204290211861,11.3638261,48.17349238-1 - Copy.jpg\n",
      "D:/Research/datasets/UrbanOrRural/ReImagesNew/1202204290211861,11.3638261,48.17349238.jpg\n",
      "D:/Research/datasets/UrbanOrRural/ReImagesNew/1210677676055472,11.516617,48.124174-3 - Copy.jpg\n",
      "D:/Research/datasets/UrbanOrRural/ReImagesNew/1210677676055472,11.516617,48.124174.jpg\n",
      "D:/Research/datasets/UrbanOrRural/ReImagesNew/1237837086671455,11.478664,48.234853-2 - Copy.jpg\n",
      "D:/Research/datasets/UrbanOrRural/ReImagesNew/1237837086671455,11.478664,48.234853.jpg\n",
      "D:/Research/datasets/UrbanOrRural/ReImagesNew/1257766948246844,11.447845,48.170876-1 - Copy.jpg\n",
      "D:/Research/datasets/UrbanOrRural/ReImagesNew/1257766948246844,11.447845,48.170876.jpg\n",
      "D:/Research/datasets/UrbanOrRural/ReImagesNew/1290465621348968,11.41764323,48.14433525-1 - Copy.jpg\n",
      "D:/Research/datasets/UrbanOrRural/ReImagesNew/1290465621348968,11.41764323,48.14433525.jpg\n",
      "D:/Research/datasets/UrbanOrRural/ReImagesNew/132154665510659,11.474892,48.123766.jpg\n",
      "D:/Research/datasets/UrbanOrRural/ReImagesNew/132154665510659,11.474892,48.123766.jp.jpg\n",
      "D:/Research/datasets/UrbanOrRural/ReImagesNew/1347956152241415,11.41496945,48.14452262-3 - Copy.jpg\n",
      "D:/Research/datasets/UrbanOrRural/ReImagesNew/1347956152241415,11.41496945,48.14452262.jpg\n",
      "D:/Research/datasets/UrbanOrRural/ReImagesNew/1360076497955680,11.4279524,48.18418068-2 - Copy.jpg\n",
      "D:/Research/datasets/UrbanOrRural/ReImagesNew/1360076497955680,11.4279524,48.18418068.jpg\n",
      "D:/Research/datasets/UrbanOrRural/ReImagesNew/136283855150223,11.478712,48.224666.jpg\n",
      "D:/Research/datasets/UrbanOrRural/ReImagesNew/136283855150223,11.478712,48.224666.jp.jpg\n",
      "D:/Research/datasets/UrbanOrRural/ReImagesNew/1383759288672280,11.40296494,48.12937751-2 - Copy.jpg\n",
      "D:/Research/datasets/UrbanOrRural/ReImagesNew/1383759288672280,11.40296494,48.12937751.jpg\n",
      "D:/Research/datasets/UrbanOrRural/ReImagesNew/1384043511957230,11.431285,48.179512-1 - Copy.jpg\n",
      "D:/Research/datasets/UrbanOrRural/ReImagesNew/1384043511957230,11.431285,48.179512.jpg\n",
      "D:/Research/datasets/UrbanOrRural/ReImagesNew/1391421465127451,11.433924,48.180248-2 - Copy.jpg\n",
      "D:/Research/datasets/UrbanOrRural/ReImagesNew/1391421465127451,11.433924,48.180248.jpg\n",
      "D:/Research/datasets/UrbanOrRural/ReImagesNew/139728298132479,11.48113148,48.23202866.jpg\n",
      "D:/Research/datasets/UrbanOrRural/ReImagesNew/139728298132479,11.48113148,48.23202866.jp.jpg\n",
      "D:/Research/datasets/UrbanOrRural/ReImagesNew/1400034310383613,11.45315148,48.16509425-2 - Copy.jpg\n",
      "D:/Research/datasets/UrbanOrRural/ReImagesNew/1400034310383613,11.45315148,48.16509425.jpg\n",
      "D:/Research/datasets/UrbanOrRural/ReImagesNew/1418884918841517,11.41703731,48.19156113-1 - Copy.jpg\n",
      "D:/Research/datasets/UrbanOrRural/ReImagesNew/1418884918841517,11.41703731,48.19156113.jpg\n",
      "D:/Research/datasets/UrbanOrRural/ReImagesNew/142255851196204,11.477677,48.223951.jpg\n",
      "D:/Research/datasets/UrbanOrRural/ReImagesNew/142255851196204,11.477677,48.223951.jp.jpg\n",
      "D:/Research/datasets/UrbanOrRural/ReImagesNew/1441134722917030,11.45414699,48.14813842-2 - Copy.jpg\n",
      "D:/Research/datasets/UrbanOrRural/ReImagesNew/1441134722917030,11.45414699,48.14813842.jpg\n",
      "D:/Research/datasets/UrbanOrRural/ReImagesNew/1633193190413796,11.384711,48.144166-2 - Copy.jpg\n",
      "D:/Research/datasets/UrbanOrRural/ReImagesNew/1633193190413796,11.384711,48.144166.jpg\n",
      "D:/Research/datasets/UrbanOrRural/ReImagesNew/1649357895258834,11.51977772,48.12377645-2 - Copy.jpg\n",
      "D:/Research/datasets/UrbanOrRural/ReImagesNew/1649357895258834,11.51977772,48.12377645.jpg\n",
      "D:/Research/datasets/UrbanOrRural/ReImagesNew/168441945285379,11.53278,48.140032.jpg\n",
      "D:/Research/datasets/UrbanOrRural/ReImagesNew/168441945285379,11.53278,48.140032.jp.jpg\n",
      "D:/Research/datasets/UrbanOrRural/ReImagesNew/1696313700713284,11.38062422,48.14298554-2 - Copy.jpg\n",
      "D:/Research/datasets/UrbanOrRural/ReImagesNew/1696313700713284,11.38062422,48.14298554.jpg\n",
      "D:/Research/datasets/UrbanOrRural/ReImagesNew/1700926866776183,11.60626857,48.13845762-3 - Copy.jpg\n",
      "D:/Research/datasets/UrbanOrRural/ReImagesNew/1700926866776183,11.60626857,48.13845762.jpg\n",
      "D:/Research/datasets/UrbanOrRural/ReImagesNew/170093404996361,11.480439,48.233117.jpg\n",
      "D:/Research/datasets/UrbanOrRural/ReImagesNew/170093404996361,11.480439,48.233117.jp.jpg\n",
      "D:/Research/datasets/UrbanOrRural/ReImagesNew/1720417941498515,11.43253836,48.16303938-2 - Copy.jpg\n",
      "D:/Research/datasets/UrbanOrRural/ReImagesNew/1720417941498515,11.43253836,48.16303938.jpg\n",
      "D:/Research/datasets/UrbanOrRural/ReImagesNew/1739758729876396,11.47633596,48.12353058-1 - Copy.jpg\n",
      "D:/Research/datasets/UrbanOrRural/ReImagesNew/1739758729876396,11.47633596,48.12353058.jpg\n",
      "D:/Research/datasets/UrbanOrRural/ReImagesNew/174127107916555,11.47523282,48.22316297.jpg\n",
      "D:/Research/datasets/UrbanOrRural/ReImagesNew/174127107916555,11.47523282,48.22316297.jp.jpg\n",
      "D:/Research/datasets/UrbanOrRural/ReImagesNew/175302587791194,11.3699506,48.1418989.jpg\n",
      "D:/Research/datasets/UrbanOrRural/ReImagesNew/175302587791194,11.3699506,48.1418989.jp.jpg\n",
      "D:/Research/datasets/UrbanOrRural/ReImagesNew/1770934176601605,11.403004,48.125621-1 - Copy.jpg\n",
      "D:/Research/datasets/UrbanOrRural/ReImagesNew/1770934176601605,11.403004,48.125621.jpg\n",
      "D:/Research/datasets/UrbanOrRural/ReImagesNew/177229087625233,11.65860682,48.12354436.jpg\n",
      "D:/Research/datasets/UrbanOrRural/ReImagesNew/177229087625233,11.65860682,48.12354436.jp.jpg\n",
      "D:/Research/datasets/UrbanOrRural/ReImagesNew/1793944560784179,11.51879137,48.12133556-1 - Copy.jpg\n",
      "D:/Research/datasets/UrbanOrRural/ReImagesNew/1793944560784179,11.51879137,48.12133556.jpg\n",
      "D:/Research/datasets/UrbanOrRural/ReImagesNew/1810785342426496,11.48145707,48.22996232-3 - Copy.jpg\n",
      "D:/Research/datasets/UrbanOrRural/ReImagesNew/1810785342426496,11.48145707,48.22996232.jpg\n",
      "D:/Research/datasets/UrbanOrRural/ReImagesNew/1854122858089517,11.45258369,48.15574402-1 - Copy.jpg\n",
      "D:/Research/datasets/UrbanOrRural/ReImagesNew/1854122858089517,11.45258369,48.15574402.jpg\n",
      "D:/Research/datasets/UrbanOrRural/ReImagesNew/196498872296027,11.51300899,48.1420272.jpg\n",
      "D:/Research/datasets/UrbanOrRural/ReImagesNew/196498872296027,11.51300899,48.1420272.jp.jpg\n",
      "D:/Research/datasets/UrbanOrRural/ReImagesNew/2005926199783750,11.43787208,48.17762796-2 - Copy.jpg\n",
      "D:/Research/datasets/UrbanOrRural/ReImagesNew/2005926199783750,11.43787208,48.17762796.jpg\n",
      "D:/Research/datasets/UrbanOrRural/ReImagesNew/2023624998003783,11.535033,48.146174-1 - Copy.jpg\n",
      "D:/Research/datasets/UrbanOrRural/ReImagesNew/2023624998003783,11.535033,48.146174.jpg\n",
      "D:/Research/datasets/UrbanOrRural/ReImagesNew/203255001395156,11.36627261,48.17601144.jpg\n",
      "D:/Research/datasets/UrbanOrRural/ReImagesNew/203255001395156,11.36627261,48.17601144.jp.jpg\n",
      "D:/Research/datasets/UrbanOrRural/ReImagesNew/2046331022384952,11.45623,48.164075-2 - Copy.jpg\n",
      "D:/Research/datasets/UrbanOrRural/ReImagesNew/2046331022384952,11.45623,48.164075.jpg\n",
      "D:/Research/datasets/UrbanOrRural/ReImagesNew/206073294401189,11.479205,48.225116.jpg\n",
      "D:/Research/datasets/UrbanOrRural/ReImagesNew/206073294401189,11.479205,48.225116.jp.jpg\n",
      "D:/Research/datasets/UrbanOrRural/ReImagesNew/206360754405581,11.53471204,48.14086555.jpg\n",
      "D:/Research/datasets/UrbanOrRural/ReImagesNew/206360754405581,11.53471204,48.14086555.jp.jpg\n",
      "D:/Research/datasets/UrbanOrRural/ReImagesNew/210649010563206,11.422745,48.146893.jpg\n",
      "D:/Research/datasets/UrbanOrRural/ReImagesNew/210649010563206,11.422745,48.146893.jp.jpg\n",
      "D:/Research/datasets/UrbanOrRural/ReImagesNew/212143490713494,11.476722,48.223454.jpg\n",
      "D:/Research/datasets/UrbanOrRural/ReImagesNew/212143490713494,11.476722,48.223454.jp.jpg\n",
      "D:/Research/datasets/UrbanOrRural/ReImagesNew/213275337270936,11.40729449,48.17140562.jpg\n",
      "D:/Research/datasets/UrbanOrRural/ReImagesNew/213275337270936,11.40729449,48.17140562.jp.jpg\n",
      "D:/Research/datasets/UrbanOrRural/ReImagesNew/215982526593390,11.49010002,48.12394269.jpg\n",
      "D:/Research/datasets/UrbanOrRural/ReImagesNew/215982526593390,11.49010002,48.12394269.jp.jpg\n",
      "D:/Research/datasets/UrbanOrRural/ReImagesNew/220694760834727,11.401529,48.130949.jpg\n",
      "D:/Research/datasets/UrbanOrRural/ReImagesNew/220694760834727,11.401529,48.130949.jp.jpg\n",
      "D:/Research/datasets/UrbanOrRural/ReImagesNew/2220599211421951,11.383928,48.143862-3 - Copy.jpg\n",
      "D:/Research/datasets/UrbanOrRural/ReImagesNew/2220599211421951,11.383928,48.143862.jpg\n",
      "D:/Research/datasets/UrbanOrRural/ReImagesNew/222078542809119,11.382292,48.131343.jpg\n",
      "D:/Research/datasets/UrbanOrRural/ReImagesNew/222078542809119,11.382292,48.131343.jp.jpg\n",
      "D:/Research/datasets/UrbanOrRural/ReImagesNew/226636732593244,11.519455,48.122259.jpg\n",
      "D:/Research/datasets/UrbanOrRural/ReImagesNew/226636732593244,11.519455,48.122259.jp.jpg\n",
      "D:/Research/datasets/UrbanOrRural/ReImagesNew/227063689558843,11.40986,48.172379.jpg\n",
      "D:/Research/datasets/UrbanOrRural/ReImagesNew/227063689558843,11.40986,48.172379.jp.jpg\n",
      "D:/Research/datasets/UrbanOrRural/ReImagesNew/2275629012647936,11.400011,48.133222-2 - Copy.jpg\n",
      "D:/Research/datasets/UrbanOrRural/ReImagesNew/2275629012647936,11.400011,48.133222.jpg\n",
      "D:/Research/datasets/UrbanOrRural/ReImagesNew/2317356811794846,11.448172,48.170661-3 - Copy.jpg\n",
      "D:/Research/datasets/UrbanOrRural/ReImagesNew/2317356811794846,11.448172,48.170661.jpg\n",
      "D:/Research/datasets/UrbanOrRural/ReImagesNew/245491048264085,11.534287,48.243075.jpg\n",
      "D:/Research/datasets/UrbanOrRural/ReImagesNew/245491048264085,11.534287,48.243075.jp.jpg\n",
      "D:/Research/datasets/UrbanOrRural/ReImagesNew/2523770201144695,11.42476074,48.18628772-1 - Copy.jpg\n",
      "D:/Research/datasets/UrbanOrRural/ReImagesNew/2523770201144695,11.42476074,48.18628772.jpg\n",
      "D:/Research/datasets/UrbanOrRural/ReImagesNew/254541386454340,11.43439073,48.14933998.jpg\n",
      "D:/Research/datasets/UrbanOrRural/ReImagesNew/254541386454340,11.43439073,48.14933998.jp.jpg\n",
      "D:/Research/datasets/UrbanOrRural/ReImagesNew/258420047226883,11.4048268,48.12812842.jpg\n",
      "D:/Research/datasets/UrbanOrRural/ReImagesNew/258420047226883,11.4048268,48.12812842.jp.jpg\n",
      "D:/Research/datasets/UrbanOrRural/ReImagesNew/263195848883658,11.531214,48.139527.jpg\n",
      "D:/Research/datasets/UrbanOrRural/ReImagesNew/263195848883658,11.531214,48.139527.jp.jpg\n",
      "D:/Research/datasets/UrbanOrRural/ReImagesNew/263451109093576,11.444085,48.158425.jpg\n",
      "D:/Research/datasets/UrbanOrRural/ReImagesNew/263451109093576,11.444085,48.158425.jp.jpg\n",
      "D:/Research/datasets/UrbanOrRural/ReImagesNew/263982506022315,11.407183,48.127691-1 - Copy.jpg\n",
      "D:/Research/datasets/UrbanOrRural/ReImagesNew/263982506022315,11.407183,48.127691.jpg\n",
      "D:/Research/datasets/UrbanOrRural/ReImagesNew/270599418705129,11.40316416,48.12823458-1 - Copy.jpg\n",
      "D:/Research/datasets/UrbanOrRural/ReImagesNew/270599418705129,11.40316416,48.12823458.jpg\n",
      "D:/Research/datasets/UrbanOrRural/ReImagesNew/273912887981471,11.45560456,48.15300641-3 - Copy.jpg\n",
      "D:/Research/datasets/UrbanOrRural/ReImagesNew/273912887981471,11.45560456,48.15300641.jpg\n",
      "D:/Research/datasets/UrbanOrRural/ReImagesNew/2745256178953505,11.42081797,48.14415927-3 - Copy.jpg\n",
      "D:/Research/datasets/UrbanOrRural/ReImagesNew/2745256178953505,11.42081797,48.14415927.jpg\n",
      "D:/Research/datasets/UrbanOrRural/ReImagesNew/2764679010451683,11.53289783,48.14018303-2 - Copy.jpg\n",
      "D:/Research/datasets/UrbanOrRural/ReImagesNew/2764679010451683,11.53289783,48.14018303.jpg\n",
      "D:/Research/datasets/UrbanOrRural/ReImagesNew/276596450802675,11.41277171,48.14128777-2 - Copy.jpg\n",
      "D:/Research/datasets/UrbanOrRural/ReImagesNew/276596450802675,11.41277171,48.14128777.jpg\n",
      "D:/Research/datasets/UrbanOrRural/ReImagesNew/2775505219446876,11.534674,48.144445-1.jpg\n",
      "D:/Research/datasets/UrbanOrRural/ReImagesNew/2775505219446876,11.534674,48.144445.jpg\n",
      "D:/Research/datasets/UrbanOrRural/ReImagesNew/278506977345433,11.481255,48.229075-3 - Copy.jpg\n",
      "D:/Research/datasets/UrbanOrRural/ReImagesNew/278506977345433,11.481255,48.229075.jpg\n",
      "D:/Research/datasets/UrbanOrRural/ReImagesNew/278894407273589,11.422654,48.161251-2 - Copy.jpg\n",
      "D:/Research/datasets/UrbanOrRural/ReImagesNew/278894407273589,11.422654,48.161251.jpg\n",
      "D:/Research/datasets/UrbanOrRural/ReImagesNew/2794024054229352,11.419065,48.145043-3.jpg\n",
      "D:/Research/datasets/UrbanOrRural/ReImagesNew/2794024054229352,11.419065,48.145043.jpg\n",
      "D:/Research/datasets/UrbanOrRural/ReImagesNew/2795214480753538,11.537168,48.139831-1.jpg\n",
      "D:/Research/datasets/UrbanOrRural/ReImagesNew/2795214480753538,11.537168,48.139831.jpg\n",
      "D:/Research/datasets/UrbanOrRural/ReImagesNew/2836869729901456,11.401539,48.123322-3.jpg\n",
      "D:/Research/datasets/UrbanOrRural/ReImagesNew/2836869729901456,11.401539,48.123322.jpg\n",
      "D:/Research/datasets/UrbanOrRural/ReImagesNew/2875642489315028,11.478117,48.224226-3.jpg\n",
      "D:/Research/datasets/UrbanOrRural/ReImagesNew/2875642489315028,11.478117,48.224226.jpg\n",
      "D:/Research/datasets/UrbanOrRural/ReImagesNew/288634843427209,11.38434545,48.14401272-1 - Copy.jpg\n",
      "D:/Research/datasets/UrbanOrRural/ReImagesNew/288634843427209,11.38434545,48.14401272.jpg\n",
      "D:/Research/datasets/UrbanOrRural/ReImagesNew/290894035937670,11.52089467,48.12444924-2 - Copy.jpg\n",
      "D:/Research/datasets/UrbanOrRural/ReImagesNew/290894035937670,11.52089467,48.12444924.jpg\n",
      "D:/Research/datasets/UrbanOrRural/ReImagesNew/290894035937670,11.520914,48.124436-2 - Copy.jpg\n",
      "D:/Research/datasets/UrbanOrRural/ReImagesNew/290894035937670,11.520914,48.124436.jpg\n",
      "D:/Research/datasets/UrbanOrRural/ReImagesNew/2930943143819058,11.41390649,48.14374091-2.jpg\n",
      "D:/Research/datasets/UrbanOrRural/ReImagesNew/2930943143819058,11.41390649,48.14374091.jpg\n",
      "D:/Research/datasets/UrbanOrRural/ReImagesNew/293267670121911,11.38699778,48.13197152-3 - Copy.jpg\n",
      "D:/Research/datasets/UrbanOrRural/ReImagesNew/293267670121911,11.38699778,48.13197152.jpg\n",
      "D:/Research/datasets/UrbanOrRural/ReImagesNew/293346458944665,11.41552188,48.14336049-2 - Copy.jpg\n",
      "D:/Research/datasets/UrbanOrRural/ReImagesNew/293346458944665,11.41552188,48.14336049.jpg\n",
      "D:/Research/datasets/UrbanOrRural/ReImagesNew/2943069462639767,11.480826,48.227682-3.jpg\n",
      "D:/Research/datasets/UrbanOrRural/ReImagesNew/2943069462639767,11.480826,48.227682.jpg\n",
      "D:/Research/datasets/UrbanOrRural/ReImagesNew/2963306370597356,11.54969197,48.13829259-2.jpg\n",
      "D:/Research/datasets/UrbanOrRural/ReImagesNew/2963306370597356,11.54969197,48.13829259.jpg\n",
      "D:/Research/datasets/UrbanOrRural/ReImagesNew/297096341962458,11.477446,48.223815-1 - Copy.jpg\n",
      "D:/Research/datasets/UrbanOrRural/ReImagesNew/297096341962458,11.477446,48.223815.jpg\n",
      "D:/Research/datasets/UrbanOrRural/ReImagesNew/297514095697224,11.380956,48.143053-3 - Copy.jpg\n",
      "D:/Research/datasets/UrbanOrRural/ReImagesNew/297514095697224,11.380956,48.143053.jpg\n",
      "D:/Research/datasets/UrbanOrRural/ReImagesNew/2997557080377701,11.420143,48.189397-2.jpg\n",
      "D:/Research/datasets/UrbanOrRural/ReImagesNew/2997557080377701,11.420143,48.189397.jpg\n",
      "D:/Research/datasets/UrbanOrRural/ReImagesNew/300053401578355,11.41471337,48.14412403-3 - Copy.jpg\n",
      "D:/Research/datasets/UrbanOrRural/ReImagesNew/300053401578355,11.41471337,48.14412403.jpg\n",
      "D:/Research/datasets/UrbanOrRural/ReImagesNew/3008663302685084,11.51988221,48.12297951-1.jpg\n",
      "D:/Research/datasets/UrbanOrRural/ReImagesNew/3008663302685084,11.51988221,48.12297951.jpg\n",
      "D:/Research/datasets/UrbanOrRural/ReImagesNew/301831568139096,11.430459,48.18204-1 - Copy.jpg\n",
      "D:/Research/datasets/UrbanOrRural/ReImagesNew/301831568139096,11.430459,48.18204.jpg\n",
      "D:/Research/datasets/UrbanOrRural/ReImagesNew/308582697523290,11.558572,48.135592-2 - Copy.jpg\n",
      "D:/Research/datasets/UrbanOrRural/ReImagesNew/308582697523290,11.558572,48.135592.jpg\n",
      "D:/Research/datasets/UrbanOrRural/ReImagesNew/308598667494316,11.445302,48.157147-1 - Copy.jpg\n",
      "D:/Research/datasets/UrbanOrRural/ReImagesNew/308598667494316,11.445302,48.157147.jpg\n",
      "D:/Research/datasets/UrbanOrRural/ReImagesNew/308863863945687,11.40678273,48.12767564-1 - Copy.jpg\n",
      "D:/Research/datasets/UrbanOrRural/ReImagesNew/308863863945687,11.40678273,48.12767564.jpg\n",
      "D:/Research/datasets/UrbanOrRural/ReImagesNew/309185650617806,11.558594,48.136824-3 - Copy.jpg\n",
      "D:/Research/datasets/UrbanOrRural/ReImagesNew/309185650617806,11.558594,48.136824.jpg\n",
      "D:/Research/datasets/UrbanOrRural/ReImagesNew/310835777058145,11.42070855,48.14530895-1 - Copy.jpg\n",
      "D:/Research/datasets/UrbanOrRural/ReImagesNew/310835777058145,11.42070855,48.14530895.jpg\n",
      "D:/Research/datasets/UrbanOrRural/ReImagesNew/311154520725803,11.531219,48.139813-3 - Copy.jpg\n",
      "D:/Research/datasets/UrbanOrRural/ReImagesNew/311154520725803,11.531219,48.139813.jpg\n",
      "D:/Research/datasets/UrbanOrRural/ReImagesNew/311195240616691,11.5216,48.124654-3 - Copy.jpg\n",
      "D:/Research/datasets/UrbanOrRural/ReImagesNew/311195240616691,11.5216,48.124654.jpg\n",
      "D:/Research/datasets/UrbanOrRural/ReImagesNew/320968099562515,11.70787246,48.18510456-3 - Copy.jpg\n",
      "D:/Research/datasets/UrbanOrRural/ReImagesNew/320968099562515,11.70787246,48.18510456.jpg\n",
      "D:/Research/datasets/UrbanOrRural/ReImagesNew/322305372585361,11.41545484,48.14365657-3 - Copy.jpg\n",
      "D:/Research/datasets/UrbanOrRural/ReImagesNew/322305372585361,11.41545484,48.14365657.jpg\n",
      "D:/Research/datasets/UrbanOrRural/ReImagesNew/322396379606174,11.41522544,48.17128015-2 - Copy.jpg\n",
      "D:/Research/datasets/UrbanOrRural/ReImagesNew/322396379606174,11.41522544,48.17128015.jpg\n",
      "D:/Research/datasets/UrbanOrRural/ReImagesNew/326078476084192,11.387302,48.145218-2 - Copy.jpg\n",
      "D:/Research/datasets/UrbanOrRural/ReImagesNew/326078476084192,11.387302,48.145218.jpg\n",
      "D:/Research/datasets/UrbanOrRural/ReImagesNew/328827965331457,11.47673069,48.12388051-3 - Copy.jpg\n",
      "D:/Research/datasets/UrbanOrRural/ReImagesNew/328827965331457,11.47673069,48.12388051.jpg\n",
      "D:/Research/datasets/UrbanOrRural/ReImagesNew/3326057820830604,11.369256,48.142795-2.jpg\n",
      "D:/Research/datasets/UrbanOrRural/ReImagesNew/3326057820830604,11.369256,48.142795.jpg\n",
      "D:/Research/datasets/UrbanOrRural/ReImagesNew/334498284689657,11.41662078,48.15666721-2 - Copy.jpg\n",
      "D:/Research/datasets/UrbanOrRural/ReImagesNew/334498284689657,11.41662078,48.15666721.jpg\n",
      "D:/Research/datasets/UrbanOrRural/ReImagesNew/337039695669324,11.424891,48.18625-2 - Copy.jpg\n",
      "D:/Research/datasets/UrbanOrRural/ReImagesNew/337039695669324,11.424891,48.18625.jpg\n",
      "D:/Research/datasets/UrbanOrRural/ReImagesNew/341768048720919,11.41639907,48.19198255-3 - Copy.jpg\n",
      "D:/Research/datasets/UrbanOrRural/ReImagesNew/341768048720919,11.41639907,48.19198255.jpg\n",
      "D:/Research/datasets/UrbanOrRural/ReImagesNew/344138061642613,11.40179756,48.13018037-3 - Copy.jpg\n",
      "D:/Research/datasets/UrbanOrRural/ReImagesNew/344138061642613,11.40179756,48.13018037.jpg\n",
      "D:/Research/datasets/UrbanOrRural/ReImagesNew/345355850342271,11.5592261,48.1344326-3 - Copy.jpg\n",
      "D:/Research/datasets/UrbanOrRural/ReImagesNew/345355850342271,11.5592261,48.1344326.jpg\n",
      "D:/Research/datasets/UrbanOrRural/ReImagesNew/346889720801843,11.38233456,48.14334969-2 - Copy.jpg\n",
      "D:/Research/datasets/UrbanOrRural/ReImagesNew/346889720801843,11.38233456,48.14334969.jpg\n",
      "D:/Research/datasets/UrbanOrRural/ReImagesNew/348343720107990,11.549785,48.138578-1 - Copy.jpg\n",
      "D:/Research/datasets/UrbanOrRural/ReImagesNew/348343720107990,11.549785,48.138578.jpg\n",
      "D:/Research/datasets/UrbanOrRural/ReImagesNew/3618234678422365,11.40360965,48.12850178-1.jpg\n",
      "D:/Research/datasets/UrbanOrRural/ReImagesNew/3618234678422365,11.40360965,48.12850178.jpg\n",
      "D:/Research/datasets/UrbanOrRural/ReImagesNew/361826096307669,11.39539695,48.14187578-2 - Copy.jpg\n",
      "D:/Research/datasets/UrbanOrRural/ReImagesNew/361826096307669,11.39539695,48.14187578.jpg\n",
      "D:/Research/datasets/UrbanOrRural/ReImagesNew/364383879330823,11.407435,48.128357-3 - Copy.jpg\n",
      "D:/Research/datasets/UrbanOrRural/ReImagesNew/364383879330823,11.407435,48.128357.jpg\n",
      "D:/Research/datasets/UrbanOrRural/ReImagesNew/365855691511060,11.417751,48.157058-3 - Copy.jpg\n",
      "D:/Research/datasets/UrbanOrRural/ReImagesNew/365855691511060,11.417751,48.157058.jpg\n",
      "D:/Research/datasets/UrbanOrRural/ReImagesNew/366213011453384,11.446155,48.145999-3 - Copy.jpg\n",
      "D:/Research/datasets/UrbanOrRural/ReImagesNew/366213011453384,11.446155,48.145999.jpg\n",
      "D:/Research/datasets/UrbanOrRural/ReImagesNew/3761278570763917,11.44010443,48.16285407-2.jpg\n",
      "D:/Research/datasets/UrbanOrRural/ReImagesNew/3761278570763917,11.44010443,48.16285407.jpg\n",
      "D:/Research/datasets/UrbanOrRural/ReImagesNew/377676616857838,11.390757,48.146102-1 - Copy.jpg\n",
      "D:/Research/datasets/UrbanOrRural/ReImagesNew/377676616857838,11.390757,48.146102.jpg\n",
      "D:/Research/datasets/UrbanOrRural/ReImagesNew/378243440282537,11.44731363,48.15595073-2 - Copy.jpg\n",
      "D:/Research/datasets/UrbanOrRural/ReImagesNew/378243440282537,11.44731363,48.15595073.jpg\n",
      "D:/Research/datasets/UrbanOrRural/ReImagesNew/379806291152156,11.53254397,48.25229095-3 - Copy.jpg\n",
      "D:/Research/datasets/UrbanOrRural/ReImagesNew/379806291152156,11.53254397,48.25229095.jpg\n",
      "D:/Research/datasets/UrbanOrRural/ReImagesNew/381915053682347,11.42385456,48.15673994-2 - Copy.jpg\n",
      "D:/Research/datasets/UrbanOrRural/ReImagesNew/381915053682347,11.42385456,48.15673994.jpg\n",
      "D:/Research/datasets/UrbanOrRural/ReImagesNew/384107157522348,11.492724,48.124339-2 - Copy.jpg\n",
      "D:/Research/datasets/UrbanOrRural/ReImagesNew/384107157522348,11.492724,48.124339.jpg\n",
      "D:/Research/datasets/UrbanOrRural/ReImagesNew/385526802781706,11.41555552,48.16144294-2 - Copy.jpg\n",
      "D:/Research/datasets/UrbanOrRural/ReImagesNew/385526802781706,11.41555552,48.16144294.jpg\n",
      "D:/Research/datasets/UrbanOrRural/ReImagesNew/387933846901214,11.42731249,48.18460104-2 - Copy.jpg\n",
      "D:/Research/datasets/UrbanOrRural/ReImagesNew/387933846901214,11.42731249,48.18460104.jpg\n",
      "D:/Research/datasets/UrbanOrRural/ReImagesNew/3929169527137899,11.550456,48.137554-1.jpg\n",
      "D:/Research/datasets/UrbanOrRural/ReImagesNew/3929169527137899,11.550456,48.137554.jpg\n",
      "D:/Research/datasets/UrbanOrRural/ReImagesNew/3988937744553915,11.398503,48.135524-2.jpg\n",
      "D:/Research/datasets/UrbanOrRural/ReImagesNew/3988937744553915,11.398503,48.135524.jpg\n",
      "D:/Research/datasets/UrbanOrRural/ReImagesNew/4030289873727253,11.519803,48.122771-3.jpg\n",
      "D:/Research/datasets/UrbanOrRural/ReImagesNew/4030289873727253,11.519803,48.122771.jpg\n",
      "D:/Research/datasets/UrbanOrRural/ReImagesNew/411206920613847,11.444085,48.158425-1 - Copy.jpg\n",
      "D:/Research/datasets/UrbanOrRural/ReImagesNew/411206920613847,11.444085,48.158425.jpg\n",
      "D:/Research/datasets/UrbanOrRural/ReImagesNew/414643190138909,11.41511684,48.17157081-1 - Copy.jpg\n",
      "D:/Research/datasets/UrbanOrRural/ReImagesNew/414643190138909,11.41511684,48.17157081.jpg\n",
      "D:/Research/datasets/UrbanOrRural/ReImagesNew/417074723305275,11.409012,48.172264-3 - Copy.jpg\n",
      "D:/Research/datasets/UrbanOrRural/ReImagesNew/417074723305275,11.409012,48.172264.jpg\n",
      "D:/Research/datasets/UrbanOrRural/ReImagesNew/425494595876088,11.406577,48.161065-1 - Copy.jpg\n",
      "D:/Research/datasets/UrbanOrRural/ReImagesNew/425494595876088,11.406577,48.161065.jpg\n",
      "D:/Research/datasets/UrbanOrRural/ReImagesNew/427549575712640,11.44501298,48.15735574-2 - Copy.jpg\n",
      "D:/Research/datasets/UrbanOrRural/ReImagesNew/427549575712640,11.44501298,48.15735574.jpg\n",
      "D:/Research/datasets/UrbanOrRural/ReImagesNew/428395292268325,11.452528,48.153175-1 - Copy.jpg\n",
      "D:/Research/datasets/UrbanOrRural/ReImagesNew/428395292268325,11.452528,48.153175.jpg\n",
      "D:/Research/datasets/UrbanOrRural/ReImagesNew/432727555030205,11.414977,48.171842-1 - Copy.jpg\n",
      "D:/Research/datasets/UrbanOrRural/ReImagesNew/432727555030205,11.414977,48.171842.jpg\n",
      "D:/Research/datasets/UrbanOrRural/ReImagesNew/4356163154396639,11.41640977,48.14421219-1.jpg\n",
      "D:/Research/datasets/UrbanOrRural/ReImagesNew/4356163154396639,11.41640977,48.14421219.jpg\n",
      "D:/Research/datasets/UrbanOrRural/ReImagesNew/4360643920615075,11.40898,48.169695-2.jpg\n",
      "D:/Research/datasets/UrbanOrRural/ReImagesNew/4360643920615075,11.40898,48.169695.jpg\n",
      "D:/Research/datasets/UrbanOrRural/ReImagesNew/4486181128163658,11.452528,48.153175-1.jpg\n",
      "D:/Research/datasets/UrbanOrRural/ReImagesNew/4486181128163658,11.452528,48.153175.jpg\n",
      "D:/Research/datasets/UrbanOrRural/ReImagesNew/4515330531868916,11.42303139,48.16167687-1.jpg\n",
      "D:/Research/datasets/UrbanOrRural/ReImagesNew/4515330531868916,11.42303139,48.16167687.jpg\n",
      "D:/Research/datasets/UrbanOrRural/ReImagesNew/464456858188296,11.555858,48.136534-1 - Copy.jpg\n",
      "D:/Research/datasets/UrbanOrRural/ReImagesNew/464456858188296,11.555858,48.136534.jpg\n",
      "D:/Research/datasets/UrbanOrRural/ReImagesNew/465550514656248,11.44733,48.146113-2 - Copy.jpg\n",
      "D:/Research/datasets/UrbanOrRural/ReImagesNew/465550514656248,11.44733,48.146113.jpg\n",
      "D:/Research/datasets/UrbanOrRural/ReImagesNew/469006724761430,11.41511684,48.17157081-2 - Copy.jpg\n",
      "D:/Research/datasets/UrbanOrRural/ReImagesNew/469006724761430,11.41511684,48.17157081.jpg\n",
      "D:/Research/datasets/UrbanOrRural/ReImagesNew/469636214147476,11.520115,48.123311-1 - Copy.jpg\n",
      "D:/Research/datasets/UrbanOrRural/ReImagesNew/469636214147476,11.520115,48.123311.jpg\n",
      "D:/Research/datasets/UrbanOrRural/ReImagesNew/471379470732491,11.533692,48.139963-2 - Copy.jpg\n",
      "D:/Research/datasets/UrbanOrRural/ReImagesNew/471379470732491,11.533692,48.139963.jpg\n",
      "D:/Research/datasets/UrbanOrRural/ReImagesNew/473157840423373,11.558577,48.138746-2 - Copy.jpg\n",
      "D:/Research/datasets/UrbanOrRural/ReImagesNew/473157840423373,11.558577,48.138746.jpg\n",
      "D:/Research/datasets/UrbanOrRural/ReImagesNew/475573943711508,11.55593457,48.13839427-2 - Copy.jpg\n",
      "D:/Research/datasets/UrbanOrRural/ReImagesNew/475573943711508,11.55593457,48.13839427.jpg\n",
      "D:/Research/datasets/UrbanOrRural/ReImagesNew/482078646402465,11.520656,48.124182-3 - Copy.jpg\n",
      "D:/Research/datasets/UrbanOrRural/ReImagesNew/482078646402465,11.520656,48.124182.jpg\n",
      "D:/Research/datasets/UrbanOrRural/ReImagesNew/482488533170095,11.423029,48.14583-3 - Copy.jpg\n",
      "D:/Research/datasets/UrbanOrRural/ReImagesNew/482488533170095,11.423029,48.14583.jpg\n",
      "D:/Research/datasets/UrbanOrRural/ReImagesNew/486108405963867,11.423067,48.146317-2 - Copy.jpg\n",
      "D:/Research/datasets/UrbanOrRural/ReImagesNew/486108405963867,11.423067,48.146317.jpg\n",
      "D:/Research/datasets/UrbanOrRural/ReImagesNew/488792655665585,11.447657,48.155776-3 - Copy.jpg\n",
      "D:/Research/datasets/UrbanOrRural/ReImagesNew/488792655665585,11.447657,48.155776.jpg\n",
      "D:/Research/datasets/UrbanOrRural/ReImagesNew/489418752393218,11.425234,48.157537-3 - Copy.jpg\n",
      "D:/Research/datasets/UrbanOrRural/ReImagesNew/489418752393218,11.425234,48.157537.jpg\n",
      "D:/Research/datasets/UrbanOrRural/ReImagesNew/491874969805347,11.5425,48.22746-2 - Copy.jpg\n",
      "D:/Research/datasets/UrbanOrRural/ReImagesNew/491874969805347,11.5425,48.22746.jpg\n",
      "D:/Research/datasets/UrbanOrRural/ReImagesNew/4978538578895421,11.38989113,48.14595521-1.jpg\n",
      "D:/Research/datasets/UrbanOrRural/ReImagesNew/4978538578895421,11.38989113,48.14595521.jpg\n",
      "D:/Research/datasets/UrbanOrRural/ReImagesNew/500684931276061,11.430507,48.180903-2 - Copy.jpg\n",
      "D:/Research/datasets/UrbanOrRural/ReImagesNew/500684931276061,11.430507,48.180903.jpg\n",
      "D:/Research/datasets/UrbanOrRural/ReImagesNew/500731827641116,11.41381873,48.14403483-3 - Copy.jpg\n",
      "D:/Research/datasets/UrbanOrRural/ReImagesNew/500731827641116,11.41381873,48.14403483.jpg\n",
      "D:/Research/datasets/UrbanOrRural/ReImagesNew/505351207922269,11.385484,48.144488-2 - Copy.jpg\n",
      "D:/Research/datasets/UrbanOrRural/ReImagesNew/505351207922269,11.385484,48.144488.jpg\n",
      "D:/Research/datasets/UrbanOrRural/ReImagesNew/505593770797966,11.43441814,48.17421027-3 - Copy.jpg\n",
      "D:/Research/datasets/UrbanOrRural/ReImagesNew/505593770797966,11.43441814,48.17421027.jpg\n",
      "D:/Research/datasets/UrbanOrRural/ReImagesNew/510614393298868,11.45611191,48.15125243-2 - Copy.jpg\n",
      "D:/Research/datasets/UrbanOrRural/ReImagesNew/510614393298868,11.45611191,48.15125243.jpg\n",
      "D:/Research/datasets/UrbanOrRural/ReImagesNew/511765403306937,11.550912,48.137547-1 - Copy.jpg\n",
      "D:/Research/datasets/UrbanOrRural/ReImagesNew/511765403306937,11.550912,48.137547.jpg\n",
      "D:/Research/datasets/UrbanOrRural/ReImagesNew/515772229423170,11.42249627,48.14849612-2 - Copy.jpg\n",
      "D:/Research/datasets/UrbanOrRural/ReImagesNew/515772229423170,11.42249627,48.14849612.jpg\n",
      "D:/Research/datasets/UrbanOrRural/ReImagesNew/5348274205189365,11.41522544,48.17128015-2.jpg\n",
      "D:/Research/datasets/UrbanOrRural/ReImagesNew/5348274205189365,11.41522544,48.17128015.jpg\n",
      "D:/Research/datasets/UrbanOrRural/ReImagesNew/5416031525188312,11.434895,48.179776-2.jpg\n",
      "D:/Research/datasets/UrbanOrRural/ReImagesNew/5416031525188312,11.434895,48.179776.jpg\n",
      "D:/Research/datasets/UrbanOrRural/ReImagesNew/5420062351398191,11.454937,48.149134-3.jpg\n",
      "D:/Research/datasets/UrbanOrRural/ReImagesNew/5420062351398191,11.454937,48.149134.jpg\n",
      "D:/Research/datasets/UrbanOrRural/ReImagesNew/555500562497324,11.45719847,48.12442328-2 - Copy.jpg\n",
      "D:/Research/datasets/UrbanOrRural/ReImagesNew/555500562497324,11.45719847,48.12442328.jpg\n",
      "D:/Research/datasets/UrbanOrRural/ReImagesNew/567426040904028,11.533783,48.140153-1 - Copy.jpg\n",
      "D:/Research/datasets/UrbanOrRural/ReImagesNew/567426040904028,11.533783,48.140153.jpg\n",
      "D:/Research/datasets/UrbanOrRural/ReImagesNew/584668993050562,11.403481,48.127318-2 - Copy.jpg\n",
      "D:/Research/datasets/UrbanOrRural/ReImagesNew/584668993050562,11.403481,48.127318.jpg\n",
      "D:/Research/datasets/UrbanOrRural/ReImagesNew/591310501838999,11.414532,48.144599-2 - Copy.jpg\n",
      "D:/Research/datasets/UrbanOrRural/ReImagesNew/591310501838999,11.414532,48.144599.jpg\n",
      "D:/Research/datasets/UrbanOrRural/ReImagesNew/604521314301118,11.41511684,48.17157081-2 - Copy.jpg\n",
      "D:/Research/datasets/UrbanOrRural/ReImagesNew/604521314301118,11.41511684,48.17157081.jpg\n",
      "D:/Research/datasets/UrbanOrRural/ReImagesNew/609609630018401,11.53534938,48.14004631-2 - Copy.jpg\n",
      "D:/Research/datasets/UrbanOrRural/ReImagesNew/609609630018401,11.53534938,48.14004631.jpg\n",
      "D:/Research/datasets/UrbanOrRural/ReImagesNew/614882910048062,11.44888796,48.15508819-3 - Copy.jpg\n",
      "D:/Research/datasets/UrbanOrRural/ReImagesNew/614882910048062,11.44888796,48.15508819.jpg\n",
      "D:/Research/datasets/UrbanOrRural/ReImagesNew/622431702400316,11.55878502,48.1344892-2 - Copy.jpg\n",
      "D:/Research/datasets/UrbanOrRural/ReImagesNew/622431702400316,11.55878502,48.1344892.jpg\n",
      "D:/Research/datasets/UrbanOrRural/ReImagesNew/633667957769983,11.42428064,48.15683474-2 - Copy.jpg\n",
      "D:/Research/datasets/UrbanOrRural/ReImagesNew/633667957769983,11.42428064,48.15683474.jpg\n",
      "D:/Research/datasets/UrbanOrRural/ReImagesNew/635353925238886,11.467661,48.123909-1 - Copy.jpg\n",
      "D:/Research/datasets/UrbanOrRural/ReImagesNew/635353925238886,11.467661,48.123909.jpg\n",
      "D:/Research/datasets/UrbanOrRural/ReImagesNew/640590594665612,11.419966,48.189455-2 - Copy.jpg\n",
      "D:/Research/datasets/UrbanOrRural/ReImagesNew/640590594665612,11.419966,48.189455.jpg\n",
      "D:/Research/datasets/UrbanOrRural/ReImagesNew/647639042959317,11.419145,48.143905-2 - Copy.jpg\n",
      "D:/Research/datasets/UrbanOrRural/ReImagesNew/647639042959317,11.419145,48.143905.jpg\n",
      "D:/Research/datasets/UrbanOrRural/ReImagesNew/668442524304918,11.41972147,48.14390279-1 - Copy.jpg\n",
      "D:/Research/datasets/UrbanOrRural/ReImagesNew/668442524304918,11.41972147,48.14390279.jpg\n",
      "D:/Research/datasets/UrbanOrRural/ReImagesNew/677948679913087,11.422493,48.147684-3 - Copy.jpg\n",
      "D:/Research/datasets/UrbanOrRural/ReImagesNew/677948679913087,11.422493,48.147684.jpg\n",
      "D:/Research/datasets/UrbanOrRural/ReImagesNew/687687702646039,11.38862207,48.14565668-2 - Copy.jpg\n",
      "D:/Research/datasets/UrbanOrRural/ReImagesNew/687687702646039,11.38862207,48.14565668.jpg\n",
      "D:/Research/datasets/UrbanOrRural/ReImagesNew/687775945960652,11.443918,48.158686-2 - Copy.jpg\n",
      "D:/Research/datasets/UrbanOrRural/ReImagesNew/687775945960652,11.443918,48.158686.jpg\n",
      "D:/Research/datasets/UrbanOrRural/ReImagesNew/704494808191355,11.38292792,48.12835458-3 - Copy.jpg\n",
      "D:/Research/datasets/UrbanOrRural/ReImagesNew/704494808191355,11.38292792,48.12835458.jpg\n",
      "D:/Research/datasets/UrbanOrRural/ReImagesNew/720775645530682,11.44197386,48.16121805-3 - Copy.jpg\n",
      "D:/Research/datasets/UrbanOrRural/ReImagesNew/720775645530682,11.44197386,48.16121805.jpg\n",
      "D:/Research/datasets/UrbanOrRural/ReImagesNew/7229256950441259,11.53993639,48.23493239-1.jpg\n",
      "D:/Research/datasets/UrbanOrRural/ReImagesNew/7229256950441259,11.53993639,48.23493239.jpg\n",
      "D:/Research/datasets/UrbanOrRural/ReImagesNew/7270131506345525,11.44277,48.159187-2.jpg\n",
      "D:/Research/datasets/UrbanOrRural/ReImagesNew/7270131506345525,11.44277,48.159187.jpg\n",
      "D:/Research/datasets/UrbanOrRural/ReImagesNew/728019872503894,11.445774,48.172307-1 - Copy.jpg\n",
      "D:/Research/datasets/UrbanOrRural/ReImagesNew/728019872503894,11.445774,48.172307.jpg\n",
      "D:/Research/datasets/UrbanOrRural/ReImagesNew/730181918361017,11.38356103,48.14372089-2 - Copy.jpg\n",
      "D:/Research/datasets/UrbanOrRural/ReImagesNew/730181918361017,11.38356103,48.14372089.jpg\n",
      "D:/Research/datasets/UrbanOrRural/ReImagesNew/752039959496246,11.388944,48.145752-3 - Copy.jpg\n",
      "D:/Research/datasets/UrbanOrRural/ReImagesNew/752039959496246,11.388944,48.145752.jpg\n",
      "D:/Research/datasets/UrbanOrRural/ReImagesNew/761268894559248,11.4382495,48.14513335-1 - Copy.jpg\n",
      "D:/Research/datasets/UrbanOrRural/ReImagesNew/761268894559248,11.4382495,48.14513335.jpg\n",
      "D:/Research/datasets/UrbanOrRural/ReImagesNew/763831530961621,11.516231,48.124235-1 - Copy.jpg\n",
      "D:/Research/datasets/UrbanOrRural/ReImagesNew/763831530961621,11.516231,48.124235.jpg\n",
      "D:/Research/datasets/UrbanOrRural/ReImagesNew/764544961522588,11.448516,48.155283-3 - Copy.jpg\n",
      "D:/Research/datasets/UrbanOrRural/ReImagesNew/764544961522588,11.448516,48.155283.jpg\n",
      "D:/Research/datasets/UrbanOrRural/ReImagesNew/768910150494332,11.562917,48.136326-2 - Copy.jpg\n",
      "D:/Research/datasets/UrbanOrRural/ReImagesNew/768910150494332,11.562917,48.136326.jpg\n",
      "D:/Research/datasets/UrbanOrRural/ReImagesNew/769616233727727,11.452271,48.155916-3 - Copy.jpg\n",
      "D:/Research/datasets/UrbanOrRural/ReImagesNew/769616233727727,11.452271,48.155916.jpg\n",
      "D:/Research/datasets/UrbanOrRural/ReImagesNew/772460887590884,11.398203,48.136079-3 - Copy.jpg\n",
      "D:/Research/datasets/UrbanOrRural/ReImagesNew/772460887590884,11.398203,48.136079.jpg\n",
      "D:/Research/datasets/UrbanOrRural/ReImagesNew/7762910777070935,11.4336234,48.18061669-2.jpg\n",
      "D:/Research/datasets/UrbanOrRural/ReImagesNew/7762910777070935,11.4336234,48.18061669.jpg\n",
      "D:/Research/datasets/UrbanOrRural/ReImagesNew/7762910777070935,11.433704,48.180606-1.jpg\n",
      "D:/Research/datasets/UrbanOrRural/ReImagesNew/7762910777070935,11.433704,48.180606.jpg\n",
      "D:/Research/datasets/UrbanOrRural/ReImagesNew/781347056105120,11.533011,48.252827-3 - Copy.jpg\n",
      "D:/Research/datasets/UrbanOrRural/ReImagesNew/781347056105120,11.533011,48.252827.jpg\n",
      "D:/Research/datasets/UrbanOrRural/ReImagesNew/781459969150222,11.475826,48.123763-3 - Copy.jpg\n",
      "D:/Research/datasets/UrbanOrRural/ReImagesNew/781459969150222,11.475826,48.123763.jpg\n",
      "D:/Research/datasets/UrbanOrRural/ReImagesNew/784802572403441,11.55856917,48.13470046-1 - Copy.jpg\n",
      "D:/Research/datasets/UrbanOrRural/ReImagesNew/784802572403441,11.55856917,48.13470046.jpg\n",
      "D:/Research/datasets/UrbanOrRural/ReImagesNew/785664058758152,11.42646034,48.16035861-3 - Copy.jpg\n",
      "D:/Research/datasets/UrbanOrRural/ReImagesNew/785664058758152,11.42646034,48.16035861.jpg\n",
      "D:/Research/datasets/UrbanOrRural/ReImagesNew/793493261606200,11.558583,48.136523-2 - Copy.jpg\n",
      "D:/Research/datasets/UrbanOrRural/ReImagesNew/793493261606200,11.558583,48.136523.jpg\n",
      "D:/Research/datasets/UrbanOrRural/ReImagesNew/804975346813954,11.52039265,48.12381192-1 - Copy.jpg\n",
      "D:/Research/datasets/UrbanOrRural/ReImagesNew/804975346813954,11.52039265,48.12381192.jpg\n",
      "D:/Research/datasets/UrbanOrRural/ReImagesNew/804975346813954,11.520436,48.123845-2 - Copy.jpg\n",
      "D:/Research/datasets/UrbanOrRural/ReImagesNew/804975346813954,11.520436,48.123845.jpg\n",
      "D:/Research/datasets/UrbanOrRural/ReImagesNew/808030606791517,11.521922,48.124604-1 - Copy.jpg\n",
      "D:/Research/datasets/UrbanOrRural/ReImagesNew/808030606791517,11.521922,48.124604.jpg\n",
      "D:/Research/datasets/UrbanOrRural/ReImagesNew/808438774380344,11.45444541,48.16711295-2 - Copy.jpg\n",
      "D:/Research/datasets/UrbanOrRural/ReImagesNew/808438774380344,11.45444541,48.16711295.jpg\n",
      "D:/Research/datasets/UrbanOrRural/ReImagesNew/813650376235366,11.414795,48.143543-2 - Copy.jpg\n",
      "D:/Research/datasets/UrbanOrRural/ReImagesNew/813650376235366,11.414795,48.143543.jpg\n",
      "D:/Research/datasets/UrbanOrRural/ReImagesNew/814002156159440,11.4478274,48.14616607-2 - Copy.jpg\n",
      "D:/Research/datasets/UrbanOrRural/ReImagesNew/814002156159440,11.4478274,48.14616607.jpg\n",
      "D:/Research/datasets/UrbanOrRural/ReImagesNew/819650385322915,11.445587,48.16075-2 - Copy.jpg\n",
      "D:/Research/datasets/UrbanOrRural/ReImagesNew/819650385322915,11.445587,48.16075.jpg\n",
      "D:/Research/datasets/UrbanOrRural/ReImagesNew/826831444707321,11.40273532,48.12963509-3 - Copy.jpg\n",
      "D:/Research/datasets/UrbanOrRural/ReImagesNew/826831444707321,11.40273532,48.12963509.jpg\n",
      "D:/Research/datasets/UrbanOrRural/ReImagesNew/859323291320098,11.555868,48.137132-1 - Copy.jpg\n",
      "D:/Research/datasets/UrbanOrRural/ReImagesNew/859323291320098,11.555868,48.137132.jpg\n",
      "D:/Research/datasets/UrbanOrRural/ReImagesNew/861412491080974,11.369739,48.142083-2 - Copy.jpg\n",
      "D:/Research/datasets/UrbanOrRural/ReImagesNew/861412491080974,11.369739,48.142083.jpg\n",
      "D:/Research/datasets/UrbanOrRural/ReImagesNew/866468497401929,11.409012,48.172264-2 - Copy.jpg\n",
      "D:/Research/datasets/UrbanOrRural/ReImagesNew/866468497401929,11.409012,48.172264.jpg\n",
      "D:/Research/datasets/UrbanOrRural/ReImagesNew/875228113323396,11.446944,48.146074-3 - Copy.jpg\n",
      "D:/Research/datasets/UrbanOrRural/ReImagesNew/875228113323396,11.446944,48.146074.jpg\n",
      "D:/Research/datasets/UrbanOrRural/ReImagesNew/880422377064280,11.45565055,48.1661204-2 - Copy.jpg\n",
      "D:/Research/datasets/UrbanOrRural/ReImagesNew/880422377064280,11.45565055,48.1661204.jpg\n",
      "D:/Research/datasets/UrbanOrRural/ReImagesNew/889101001641404,11.45050873,48.16474237-2 - Copy.jpg\n",
      "D:/Research/datasets/UrbanOrRural/ReImagesNew/889101001641404,11.45050873,48.16474237.jpg\n",
      "D:/Research/datasets/UrbanOrRural/ReImagesNew/905398280315633,11.55853642,48.13388409-2 - Copy.jpg\n",
      "D:/Research/datasets/UrbanOrRural/ReImagesNew/905398280315633,11.55853642,48.13388409.jpg\n",
      "D:/Research/datasets/UrbanOrRural/ReImagesNew/916588776539002,11.47633596,48.12353058-3 - Copy.jpg\n",
      "D:/Research/datasets/UrbanOrRural/ReImagesNew/916588776539002,11.47633596,48.12353058.jpg\n",
      "D:/Research/datasets/UrbanOrRural/ReImagesNew/924833745764709,11.541765,48.227982-3 - Copy.jpg\n",
      "D:/Research/datasets/UrbanOrRural/ReImagesNew/924833745764709,11.541765,48.227982.jpg\n",
      "D:/Research/datasets/UrbanOrRural/ReImagesNew/931128784374820,11.47791887,48.23560329-2 - Copy.jpg\n",
      "D:/Research/datasets/UrbanOrRural/ReImagesNew/931128784374820,11.47791887,48.23560329.jpg\n",
      "D:/Research/datasets/UrbanOrRural/ReImagesNew/935255733931406,11.382292,48.131343-3 - Copy.jpg\n",
      "D:/Research/datasets/UrbanOrRural/ReImagesNew/935255733931406,11.382292,48.131343.jpg\n",
      "D:/Research/datasets/UrbanOrRural/ReImagesNew/946471546219492,11.41522544,48.17128015-1 - Copy.jpg\n",
      "D:/Research/datasets/UrbanOrRural/ReImagesNew/946471546219492,11.41522544,48.17128015.jpg\n",
      "D:/Research/datasets/UrbanOrRural/ReImagesNew/949086649186717,11.481341,48.23148-3 - Copy.jpg\n",
      "D:/Research/datasets/UrbanOrRural/ReImagesNew/949086649186717,11.481341,48.23148.jpg\n",
      "D:/Research/datasets/UrbanOrRural/ReImagesNew/950149895788005,11.36342604,48.17335621-3 - Copy.jpg\n",
      "D:/Research/datasets/UrbanOrRural/ReImagesNew/950149895788005,11.36342604,48.17335621.jpg\n",
      "D:/Research/datasets/UrbanOrRural/ReImagesNew/955065628752162,11.452528,48.153175-2 - Copy.jpg\n",
      "D:/Research/datasets/UrbanOrRural/ReImagesNew/955065628752162,11.452528,48.153175.jpg\n",
      "D:/Research/datasets/UrbanOrRural/ReImagesNew/963610074408319,11.44330013,48.16049565-3 - Copy.jpg\n",
      "D:/Research/datasets/UrbanOrRural/ReImagesNew/963610074408319,11.44330013,48.16049565.jpg\n"
     ]
    }
   ],
   "execution_count": 15
  },
  {
   "metadata": {
    "ExecuteTime": {
     "end_time": "2024-04-11T08:48:43.567813Z",
     "start_time": "2024-04-11T08:48:42.380111Z"
    }
   },
   "cell_type": "code",
   "source": [
    "import requests\n",
    "import cv2\n",
    "import numpy as np\n",
    "import matplotlib.pyplot as plt\n",
    "from PIL import Image\n",
    "from io import BytesIO"
   ],
   "id": "ffe64e42b9d87dd3",
   "outputs": [],
   "execution_count": 1
  },
  {
   "metadata": {
    "ExecuteTime": {
     "end_time": "2024-04-11T08:44:15.004898Z",
     "start_time": "2024-04-11T08:44:13.011388Z"
    }
   },
   "cell_type": "code",
   "source": "image_res = requests.get('https://scontent-fra3-2.xx.fbcdn.net/m1/v/t6/An-MYrbps6SHSMcFzEd_6NbOC4bT9L3ukLnxxXAY202lDiP3KLnpSYoJ-6ie4Sa4makoai98PgOewRnEpFOWWRmuRvdMf67DeMeIx4u2XZBp6Ti_GOWAwfzgGT7QrXVed_7-53LkI3WDLcbk_TFoAQ?stp=s2048x1152&ccb=10-5&oh=00_AfBUrsTLiYv_MHuzlvXz-yDk8WAhQFHaAunVDlygYr3H0Q&oe=663F0D11&_nc_sid=201bca', stream=True).raw",
   "id": "a792563b9dabde26",
   "outputs": [],
   "execution_count": 9
  },
  {
   "metadata": {
    "ExecuteTime": {
     "end_time": "2024-04-11T08:44:15.778999Z",
     "start_time": "2024-04-11T08:44:15.694426Z"
    }
   },
   "cell_type": "code",
   "source": [
    "image = np.asarray(bytearray(image_res.read()), dtype=np.uint8)\n",
    "image = cv2.imdecode(image, cv2.IMREAD_COLOR)"
   ],
   "id": "bc043d37fd468dd5",
   "outputs": [],
   "execution_count": 10
  },
  {
   "metadata": {
    "ExecuteTime": {
     "end_time": "2024-04-11T08:48:43.586397Z",
     "start_time": "2024-04-11T08:48:43.570855Z"
    }
   },
   "cell_type": "code",
   "source": "from PrepropessSVImage import log_transform",
   "id": "cd2d9cdb9f7793e7",
   "outputs": [],
   "execution_count": 2
  },
  {
   "metadata": {
    "ExecuteTime": {
     "end_time": "2024-04-11T09:12:50.460254Z",
     "start_time": "2024-04-11T09:12:50.387643Z"
    }
   },
   "cell_type": "code",
   "source": "image = cv2.imread('D:/Research/datasets/UrbanOrRural/ReImages/153285353401377,11.510512,48.169706.jpg')",
   "id": "5f689526a46800f8",
   "outputs": [],
   "execution_count": 24
  },
  {
   "metadata": {
    "ExecuteTime": {
     "end_time": "2024-04-11T09:01:40.484629Z",
     "start_time": "2024-04-11T09:01:40.189466Z"
    }
   },
   "cell_type": "code",
   "source": "image_enhanced = log_transform(image, c=25)",
   "id": "794508783aec090a",
   "outputs": [],
   "execution_count": 14
  },
  {
   "metadata": {
    "ExecuteTime": {
     "end_time": "2024-04-11T09:07:28.122286Z",
     "start_time": "2024-04-11T09:07:28.078308Z"
    }
   },
   "cell_type": "code",
   "source": [
    "channels = cv2.split(image)\n",
    "for channel in channels:\n",
    "    channel = cv2.equalizeHist(channel)\n",
    "image_enhanced = cv2.merge(channels)"
   ],
   "id": "89a8ceda5161c7cb",
   "outputs": [],
   "execution_count": 19
  },
  {
   "metadata": {
    "ExecuteTime": {
     "end_time": "2024-04-11T09:12:52.479668Z",
     "start_time": "2024-04-11T09:12:52.463200Z"
    }
   },
   "cell_type": "code",
   "source": [
    "laplacian = np.array([[0, -1, 0], [-1, 5, -1], [0, -1, 0]])\n",
    "image_enhanced = cv2.filter2D(image, -1, laplacian)"
   ],
   "id": "24a522a33d210e56",
   "outputs": [],
   "execution_count": 25
  },
  {
   "metadata": {
    "ExecuteTime": {
     "end_time": "2024-04-11T09:12:54.300857Z",
     "start_time": "2024-04-11T09:12:54.227307Z"
    }
   },
   "cell_type": "code",
   "source": "cv2.imwrite('./Datasets/Images/image_enhanced.jpg', image_enhanced)",
   "id": "771ce00a2e7456ab",
   "outputs": [
    {
     "data": {
      "text/plain": [
       "True"
      ]
     },
     "execution_count": 26,
     "metadata": {},
     "output_type": "execute_result"
    }
   ],
   "execution_count": 26
  },
  {
   "metadata": {},
   "cell_type": "code",
   "outputs": [],
   "execution_count": null,
   "source": "",
   "id": "1791518741ca3efa"
  }
 ],
 "metadata": {
  "kernelspec": {
   "display_name": "Python 3",
   "language": "python",
   "name": "python3"
  },
  "language_info": {
   "codemirror_mode": {
    "name": "ipython",
    "version": 2
   },
   "file_extension": ".py",
   "mimetype": "text/x-python",
   "name": "python",
   "nbconvert_exporter": "python",
   "pygments_lexer": "ipython2",
   "version": "2.7.6"
  }
 },
 "nbformat": 4,
 "nbformat_minor": 5
}
