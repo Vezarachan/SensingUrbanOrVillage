{
 "cells": [
  {
   "cell_type": "code",
   "execution_count": 1,
   "id": "8956b83a-26e9-4c81-9bfe-3f0fb4575f67",
   "metadata": {},
   "source": [
    "import matplotlib.pyplot as plt\n",
    "from PIL import Image\n",
    "from visualization import semantic_inference\n",
    "from SegmentationHead import SegWrapForViT\n",
    "from lora import ViTWithLoRA\n",
    "import timm\n",
    "import torch\n",
    "from torchvision.transforms import transforms as T\n",
    "import numpy as np"
   ],
   "outputs": []
  },
  {
   "cell_type": "code",
   "execution_count": 14,
   "id": "c5b0dee0-2166-4fd7-8e51-7b108acf9467",
   "metadata": {},
   "source": [
    "image = Image.open('./sample.jpg').convert('RGB')"
   ],
   "outputs": []
  },
  {
   "cell_type": "code",
   "execution_count": 15,
   "id": "f0cdbeda-a255-4682-8ee9-a48b817672fc",
   "metadata": {},
   "source": [
    "plt.imshow(image)"
   ],
   "outputs": []
  },
  {
   "cell_type": "code",
   "execution_count": 16,
   "id": "ddbb9331-ca7e-4b6a-89cc-895df42ded1d",
   "metadata": {},
   "source": [
    "to_tensor = T.ToTensor()"
   ],
   "outputs": []
  },
  {
   "cell_type": "code",
   "execution_count": 19,
   "id": "9a16ac35-42dc-4df8-bf26-f0fce36ce77f",
   "metadata": {},
   "source": [
    "img = to_tensor(np.array(image))"
   ],
   "outputs": []
  },
  {
   "cell_type": "code",
   "execution_count": 21,
   "id": "c1e826c5-3b17-438f-9890-249a1097a38d",
   "metadata": {},
   "source": [
    "img = torch.unsqueeze(img, 0)"
   ],
   "outputs": []
  },
  {
   "cell_type": "code",
   "execution_count": 22,
   "id": "b94321f6-220f-4f34-959f-0dec56e8e01d",
   "metadata": {},
   "source": [
    "img.shape"
   ],
   "outputs": []
  },
  {
   "cell_type": "code",
   "execution_count": 23,
   "id": "646f8337-0481-46e6-a9f8-72baf86d5478",
   "metadata": {},
   "source": [
    "seg= semantic_inference(img, './head_best.pth', './lora_best.safetensors')"
   ],
   "outputs": []
  },
  {
   "cell_type": "code",
   "execution_count": 24,
   "id": "122fd3fe-0e80-4d1e-9ed2-f21fc9a0659a",
   "metadata": {},
   "source": [
    "seg.shape"
   ],
   "outputs": []
  },
  {
   "cell_type": "code",
   "execution_count": 25,
   "id": "6f0bbce8-04ff-4754-b10f-8d2f20145599",
   "metadata": {},
   "source": [
    "plt.imshow(seg)"
   ],
   "outputs": []
  },
  {
   "cell_type": "code",
   "execution_count": 26,
   "id": "8b988006-ed92-473f-8299-b380332b8399",
   "metadata": {},
   "source": [
    "plt.figure(figsize=(10, 10))\n",
    "plt.subplot(211)\n",
    "plt.imshow(seg, cmap='rainbow')\n",
    "plt.subplot(212)\n",
    "plt.imshow(image)\n",
    "plt.imshow(seg, cmap='rainbow', alpha=0.4)"
   ],
   "outputs": []
  },
  {
   "cell_type": "code",
   "execution_count": null,
   "id": "2cad3a76-3bf9-4a94-8cb3-9a52128b99c0",
   "metadata": {},
   "source": [],
   "outputs": []
  }
 ],
 "metadata": {
  "kernelspec": {
   "display_name": "Python 3 (ipykernel)",
   "language": "python",
   "name": "python3"
  },
  "language_info": {
   "codemirror_mode": {
    "name": "ipython",
    "version": 3
   },
   "file_extension": ".py",
   "mimetype": "text/x-python",
   "name": "python",
   "nbconvert_exporter": "python",
   "pygments_lexer": "ipython3",
   "version": "3.9.19"
  }
 },
 "nbformat": 4,
 "nbformat_minor": 5
}
